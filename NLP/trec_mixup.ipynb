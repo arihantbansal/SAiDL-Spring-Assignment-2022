{
  "cells": [
    {
      "cell_type": "markdown",
      "metadata": {
        "id": "view-in-github",
        "colab_type": "text"
      },
      "source": [
        "<a href=\"https://colab.research.google.com/github/arihantbansal/SAiDL-Spring-Assignment-2022/blob/main/NLP/trec_mixup.ipynb\" target=\"_parent\"><img src=\"https://colab.research.google.com/assets/colab-badge.svg\" alt=\"Open In Colab\"/></a>"
      ]
    },
    {
      "cell_type": "markdown",
      "metadata": {
        "id": "O3nmaQdMURdZ"
      },
      "source": [
        "# Using Mixup on TREC Dataset"
      ]
    },
    {
      "cell_type": "markdown",
      "metadata": {
        "id": "83rVNhLyURdh"
      },
      "source": [
        "## Import libraries"
      ]
    },
    {
      "cell_type": "code",
      "execution_count": 1,
      "metadata": {
        "execution": {
          "iopub.execute_input": "2022-02-11T16:30:34.125405Z",
          "iopub.status.busy": "2022-02-11T16:30:34.125095Z",
          "iopub.status.idle": "2022-02-11T16:31:14.455772Z",
          "shell.execute_reply": "2022-02-11T16:31:14.454972Z",
          "shell.execute_reply.started": "2022-02-11T16:30:34.125323Z"
        },
        "id": "ADiuNHhSUyci",
        "trusted": true,
        "colab": {
          "base_uri": "https://localhost:8080/"
        },
        "outputId": "be68b232-a6bd-4688-f7c7-394085db422e"
      },
      "outputs": [
        {
          "output_type": "stream",
          "name": "stdout",
          "text": [
            "Collecting datasets\n",
            "  Downloading datasets-1.18.3-py3-none-any.whl (311 kB)\n",
            "\u001b[?25l\r\u001b[K     |█                               | 10 kB 21.6 MB/s eta 0:00:01\r\u001b[K     |██                              | 20 kB 8.9 MB/s eta 0:00:01\r\u001b[K     |███▏                            | 30 kB 5.7 MB/s eta 0:00:01\r\u001b[K     |████▏                           | 40 kB 5.3 MB/s eta 0:00:01\r\u001b[K     |█████▎                          | 51 kB 3.5 MB/s eta 0:00:01\r\u001b[K     |██████▎                         | 61 kB 4.2 MB/s eta 0:00:01\r\u001b[K     |███████▍                        | 71 kB 4.2 MB/s eta 0:00:01\r\u001b[K     |████████▍                       | 81 kB 4.4 MB/s eta 0:00:01\r\u001b[K     |█████████▌                      | 92 kB 4.9 MB/s eta 0:00:01\r\u001b[K     |██████████▌                     | 102 kB 4.2 MB/s eta 0:00:01\r\u001b[K     |███████████▋                    | 112 kB 4.2 MB/s eta 0:00:01\r\u001b[K     |████████████▋                   | 122 kB 4.2 MB/s eta 0:00:01\r\u001b[K     |█████████████▊                  | 133 kB 4.2 MB/s eta 0:00:01\r\u001b[K     |██████████████▊                 | 143 kB 4.2 MB/s eta 0:00:01\r\u001b[K     |███████████████▊                | 153 kB 4.2 MB/s eta 0:00:01\r\u001b[K     |████████████████▉               | 163 kB 4.2 MB/s eta 0:00:01\r\u001b[K     |█████████████████▉              | 174 kB 4.2 MB/s eta 0:00:01\r\u001b[K     |███████████████████             | 184 kB 4.2 MB/s eta 0:00:01\r\u001b[K     |████████████████████            | 194 kB 4.2 MB/s eta 0:00:01\r\u001b[K     |█████████████████████           | 204 kB 4.2 MB/s eta 0:00:01\r\u001b[K     |██████████████████████          | 215 kB 4.2 MB/s eta 0:00:01\r\u001b[K     |███████████████████████▏        | 225 kB 4.2 MB/s eta 0:00:01\r\u001b[K     |████████████████████████▏       | 235 kB 4.2 MB/s eta 0:00:01\r\u001b[K     |█████████████████████████▎      | 245 kB 4.2 MB/s eta 0:00:01\r\u001b[K     |██████████████████████████▎     | 256 kB 4.2 MB/s eta 0:00:01\r\u001b[K     |███████████████████████████▍    | 266 kB 4.2 MB/s eta 0:00:01\r\u001b[K     |████████████████████████████▍   | 276 kB 4.2 MB/s eta 0:00:01\r\u001b[K     |█████████████████████████████▍  | 286 kB 4.2 MB/s eta 0:00:01\r\u001b[K     |██████████████████████████████▌ | 296 kB 4.2 MB/s eta 0:00:01\r\u001b[K     |███████████████████████████████▌| 307 kB 4.2 MB/s eta 0:00:01\r\u001b[K     |████████████████████████████████| 311 kB 4.2 MB/s \n",
            "\u001b[?25hRequirement already satisfied: packaging in /usr/local/lib/python3.7/dist-packages (from datasets) (21.3)\n",
            "Requirement already satisfied: dill in /usr/local/lib/python3.7/dist-packages (from datasets) (0.3.4)\n",
            "Requirement already satisfied: multiprocess in /usr/local/lib/python3.7/dist-packages (from datasets) (0.70.12.2)\n",
            "Requirement already satisfied: requests>=2.19.0 in /usr/local/lib/python3.7/dist-packages (from datasets) (2.23.0)\n",
            "Requirement already satisfied: pandas in /usr/local/lib/python3.7/dist-packages (from datasets) (1.3.5)\n",
            "Requirement already satisfied: numpy>=1.17 in /usr/local/lib/python3.7/dist-packages (from datasets) (1.21.5)\n",
            "Requirement already satisfied: pyarrow!=4.0.0,>=3.0.0 in /usr/local/lib/python3.7/dist-packages (from datasets) (6.0.1)\n",
            "Collecting xxhash\n",
            "  Downloading xxhash-2.0.2-cp37-cp37m-manylinux2010_x86_64.whl (243 kB)\n",
            "\u001b[K     |████████████████████████████████| 243 kB 45.1 MB/s \n",
            "\u001b[?25hCollecting aiohttp\n",
            "  Downloading aiohttp-3.8.1-cp37-cp37m-manylinux_2_5_x86_64.manylinux1_x86_64.manylinux_2_12_x86_64.manylinux2010_x86_64.whl (1.1 MB)\n",
            "\u001b[K     |████████████████████████████████| 1.1 MB 43.1 MB/s \n",
            "\u001b[?25hRequirement already satisfied: tqdm>=4.62.1 in /usr/local/lib/python3.7/dist-packages (from datasets) (4.62.3)\n",
            "Requirement already satisfied: importlib-metadata in /usr/local/lib/python3.7/dist-packages (from datasets) (4.11.0)\n",
            "Collecting huggingface-hub<1.0.0,>=0.1.0\n",
            "  Downloading huggingface_hub-0.4.0-py3-none-any.whl (67 kB)\n",
            "\u001b[K     |████████████████████████████████| 67 kB 5.6 MB/s \n",
            "\u001b[?25hCollecting fsspec[http]>=2021.05.0\n",
            "  Downloading fsspec-2022.1.0-py3-none-any.whl (133 kB)\n",
            "\u001b[K     |████████████████████████████████| 133 kB 46.5 MB/s \n",
            "\u001b[?25hRequirement already satisfied: pyyaml in /usr/local/lib/python3.7/dist-packages (from huggingface-hub<1.0.0,>=0.1.0->datasets) (3.13)\n",
            "Requirement already satisfied: typing-extensions>=3.7.4.3 in /usr/local/lib/python3.7/dist-packages (from huggingface-hub<1.0.0,>=0.1.0->datasets) (3.10.0.2)\n",
            "Requirement already satisfied: filelock in /usr/local/lib/python3.7/dist-packages (from huggingface-hub<1.0.0,>=0.1.0->datasets) (3.4.2)\n",
            "Requirement already satisfied: pyparsing!=3.0.5,>=2.0.2 in /usr/local/lib/python3.7/dist-packages (from packaging->datasets) (3.0.7)\n",
            "Requirement already satisfied: chardet<4,>=3.0.2 in /usr/local/lib/python3.7/dist-packages (from requests>=2.19.0->datasets) (3.0.4)\n",
            "Requirement already satisfied: certifi>=2017.4.17 in /usr/local/lib/python3.7/dist-packages (from requests>=2.19.0->datasets) (2021.10.8)\n",
            "Requirement already satisfied: idna<3,>=2.5 in /usr/local/lib/python3.7/dist-packages (from requests>=2.19.0->datasets) (2.10)\n",
            "Requirement already satisfied: urllib3!=1.25.0,!=1.25.1,<1.26,>=1.21.1 in /usr/local/lib/python3.7/dist-packages (from requests>=2.19.0->datasets) (1.24.3)\n",
            "Collecting yarl<2.0,>=1.0\n",
            "  Downloading yarl-1.7.2-cp37-cp37m-manylinux_2_5_x86_64.manylinux1_x86_64.manylinux_2_12_x86_64.manylinux2010_x86_64.whl (271 kB)\n",
            "\u001b[K     |████████████████████████████████| 271 kB 46.6 MB/s \n",
            "\u001b[?25hCollecting async-timeout<5.0,>=4.0.0a3\n",
            "  Downloading async_timeout-4.0.2-py3-none-any.whl (5.8 kB)\n",
            "Collecting asynctest==0.13.0\n",
            "  Downloading asynctest-0.13.0-py3-none-any.whl (26 kB)\n",
            "Requirement already satisfied: attrs>=17.3.0 in /usr/local/lib/python3.7/dist-packages (from aiohttp->datasets) (21.4.0)\n",
            "Collecting frozenlist>=1.1.1\n",
            "  Downloading frozenlist-1.3.0-cp37-cp37m-manylinux_2_5_x86_64.manylinux1_x86_64.manylinux_2_17_x86_64.manylinux2014_x86_64.whl (144 kB)\n",
            "\u001b[K     |████████████████████████████████| 144 kB 51.1 MB/s \n",
            "\u001b[?25hRequirement already satisfied: charset-normalizer<3.0,>=2.0 in /usr/local/lib/python3.7/dist-packages (from aiohttp->datasets) (2.0.11)\n",
            "Collecting aiosignal>=1.1.2\n",
            "  Downloading aiosignal-1.2.0-py3-none-any.whl (8.2 kB)\n",
            "Collecting multidict<7.0,>=4.5\n",
            "  Downloading multidict-6.0.2-cp37-cp37m-manylinux_2_17_x86_64.manylinux2014_x86_64.whl (94 kB)\n",
            "\u001b[K     |████████████████████████████████| 94 kB 2.3 MB/s \n",
            "\u001b[?25hRequirement already satisfied: zipp>=0.5 in /usr/local/lib/python3.7/dist-packages (from importlib-metadata->datasets) (3.7.0)\n",
            "Requirement already satisfied: pytz>=2017.3 in /usr/local/lib/python3.7/dist-packages (from pandas->datasets) (2018.9)\n",
            "Requirement already satisfied: python-dateutil>=2.7.3 in /usr/local/lib/python3.7/dist-packages (from pandas->datasets) (2.8.2)\n",
            "Requirement already satisfied: six>=1.5 in /usr/local/lib/python3.7/dist-packages (from python-dateutil>=2.7.3->pandas->datasets) (1.15.0)\n",
            "Installing collected packages: multidict, frozenlist, yarl, asynctest, async-timeout, aiosignal, fsspec, aiohttp, xxhash, huggingface-hub, datasets\n",
            "Successfully installed aiohttp-3.8.1 aiosignal-1.2.0 async-timeout-4.0.2 asynctest-0.13.0 datasets-1.18.3 frozenlist-1.3.0 fsspec-2022.1.0 huggingface-hub-0.4.0 multidict-6.0.2 xxhash-2.0.2 yarl-1.7.2\n",
            "Collecting en_core_web_md==2.2.5\n",
            "  Downloading https://github.com/explosion/spacy-models/releases/download/en_core_web_md-2.2.5/en_core_web_md-2.2.5.tar.gz (96.4 MB)\n",
            "\u001b[K     |████████████████████████████████| 96.4 MB 1.3 MB/s \n",
            "\u001b[?25hRequirement already satisfied: spacy>=2.2.2 in /usr/local/lib/python3.7/dist-packages (from en_core_web_md==2.2.5) (2.2.4)\n",
            "Requirement already satisfied: numpy>=1.15.0 in /usr/local/lib/python3.7/dist-packages (from spacy>=2.2.2->en_core_web_md==2.2.5) (1.21.5)\n",
            "Requirement already satisfied: thinc==7.4.0 in /usr/local/lib/python3.7/dist-packages (from spacy>=2.2.2->en_core_web_md==2.2.5) (7.4.0)\n",
            "Requirement already satisfied: cymem<2.1.0,>=2.0.2 in /usr/local/lib/python3.7/dist-packages (from spacy>=2.2.2->en_core_web_md==2.2.5) (2.0.6)\n",
            "Requirement already satisfied: wasabi<1.1.0,>=0.4.0 in /usr/local/lib/python3.7/dist-packages (from spacy>=2.2.2->en_core_web_md==2.2.5) (0.9.0)\n",
            "Requirement already satisfied: tqdm<5.0.0,>=4.38.0 in /usr/local/lib/python3.7/dist-packages (from spacy>=2.2.2->en_core_web_md==2.2.5) (4.62.3)\n",
            "Requirement already satisfied: setuptools in /usr/local/lib/python3.7/dist-packages (from spacy>=2.2.2->en_core_web_md==2.2.5) (57.4.0)\n",
            "Requirement already satisfied: catalogue<1.1.0,>=0.0.7 in /usr/local/lib/python3.7/dist-packages (from spacy>=2.2.2->en_core_web_md==2.2.5) (1.0.0)\n",
            "Requirement already satisfied: requests<3.0.0,>=2.13.0 in /usr/local/lib/python3.7/dist-packages (from spacy>=2.2.2->en_core_web_md==2.2.5) (2.23.0)\n",
            "Requirement already satisfied: srsly<1.1.0,>=1.0.2 in /usr/local/lib/python3.7/dist-packages (from spacy>=2.2.2->en_core_web_md==2.2.5) (1.0.5)\n",
            "Requirement already satisfied: murmurhash<1.1.0,>=0.28.0 in /usr/local/lib/python3.7/dist-packages (from spacy>=2.2.2->en_core_web_md==2.2.5) (1.0.6)\n",
            "Requirement already satisfied: blis<0.5.0,>=0.4.0 in /usr/local/lib/python3.7/dist-packages (from spacy>=2.2.2->en_core_web_md==2.2.5) (0.4.1)\n",
            "Requirement already satisfied: preshed<3.1.0,>=3.0.2 in /usr/local/lib/python3.7/dist-packages (from spacy>=2.2.2->en_core_web_md==2.2.5) (3.0.6)\n",
            "Requirement already satisfied: plac<1.2.0,>=0.9.6 in /usr/local/lib/python3.7/dist-packages (from spacy>=2.2.2->en_core_web_md==2.2.5) (1.1.3)\n",
            "Requirement already satisfied: importlib-metadata>=0.20 in /usr/local/lib/python3.7/dist-packages (from catalogue<1.1.0,>=0.0.7->spacy>=2.2.2->en_core_web_md==2.2.5) (4.11.0)\n",
            "Requirement already satisfied: zipp>=0.5 in /usr/local/lib/python3.7/dist-packages (from importlib-metadata>=0.20->catalogue<1.1.0,>=0.0.7->spacy>=2.2.2->en_core_web_md==2.2.5) (3.7.0)\n",
            "Requirement already satisfied: typing-extensions>=3.6.4 in /usr/local/lib/python3.7/dist-packages (from importlib-metadata>=0.20->catalogue<1.1.0,>=0.0.7->spacy>=2.2.2->en_core_web_md==2.2.5) (3.10.0.2)\n",
            "Requirement already satisfied: chardet<4,>=3.0.2 in /usr/local/lib/python3.7/dist-packages (from requests<3.0.0,>=2.13.0->spacy>=2.2.2->en_core_web_md==2.2.5) (3.0.4)\n",
            "Requirement already satisfied: idna<3,>=2.5 in /usr/local/lib/python3.7/dist-packages (from requests<3.0.0,>=2.13.0->spacy>=2.2.2->en_core_web_md==2.2.5) (2.10)\n",
            "Requirement already satisfied: certifi>=2017.4.17 in /usr/local/lib/python3.7/dist-packages (from requests<3.0.0,>=2.13.0->spacy>=2.2.2->en_core_web_md==2.2.5) (2021.10.8)\n",
            "Requirement already satisfied: urllib3!=1.25.0,!=1.25.1,<1.26,>=1.21.1 in /usr/local/lib/python3.7/dist-packages (from requests<3.0.0,>=2.13.0->spacy>=2.2.2->en_core_web_md==2.2.5) (1.24.3)\n",
            "Building wheels for collected packages: en-core-web-md\n",
            "  Building wheel for en-core-web-md (setup.py) ... \u001b[?25l\u001b[?25hdone\n",
            "  Created wheel for en-core-web-md: filename=en_core_web_md-2.2.5-py3-none-any.whl size=98051301 sha256=baaaf6e5e7a147ccdfb5a5b4994691d93d0d4ff2ec5f91b97d548120ca0ec89e\n",
            "  Stored in directory: /tmp/pip-ephem-wheel-cache-3u0cced2/wheels/69/c5/b8/4f1c029d89238734311b3269762ab2ee325a42da2ce8edb997\n",
            "Successfully built en-core-web-md\n",
            "Installing collected packages: en-core-web-md\n",
            "Successfully installed en-core-web-md-2.2.5\n",
            "\u001b[38;5;2m✔ Download and installation successful\u001b[0m\n",
            "You can now load the model via spacy.load('en_core_web_md')\n"
          ]
        }
      ],
      "source": [
        "!pip install datasets\n",
        "!python -m spacy download en_core_web_md"
      ]
    },
    {
      "cell_type": "code",
      "execution_count": 2,
      "metadata": {
        "execution": {
          "iopub.execute_input": "2022-02-11T16:31:14.458035Z",
          "iopub.status.busy": "2022-02-11T16:31:14.457738Z",
          "iopub.status.idle": "2022-02-11T16:31:19.503120Z",
          "shell.execute_reply": "2022-02-11T16:31:19.502386Z",
          "shell.execute_reply.started": "2022-02-11T16:31:14.457998Z"
        },
        "id": "2BVbXsCfURdj",
        "trusted": true,
        "colab": {
          "base_uri": "https://localhost:8080/"
        },
        "outputId": "e91ca2f4-b24c-4aa6-833d-f011ac2274ba"
      },
      "outputs": [
        {
          "output_type": "stream",
          "name": "stdout",
          "text": [
            "[nltk_data] Downloading package wordnet to /root/nltk_data...\n",
            "[nltk_data]   Package wordnet is already up-to-date!\n",
            "[nltk_data] Downloading package stopwords to /root/nltk_data...\n",
            "[nltk_data]   Package stopwords is already up-to-date!\n"
          ]
        }
      ],
      "source": [
        "import numpy as np\n",
        "import pandas as pd\n",
        "import torch\n",
        "import torch.nn as nn\n",
        "import torch.nn.functional as F\n",
        "\n",
        "# Utility imports\n",
        "import spacy\n",
        "import re\n",
        "import string\n",
        "import time\n",
        "import random\n",
        "\n",
        "# Extras\n",
        "from collections import Counter\n",
        "from torch.utils.data import Dataset, DataLoader\n",
        "import matplotlib.pyplot as plt\n",
        "\n",
        "# nltk imports\n",
        "import nltk\n",
        "nltk.download(\"wordnet\")\n",
        "nltk.download(\"stopwords\")\n",
        "from nltk.corpus import wordnet, stopwords\n",
        "\n",
        "from datasets import load_dataset # using 🤗 HugggingFace datasets library\n"
      ]
    },
    {
      "cell_type": "markdown",
      "metadata": {
        "id": "ivSA-g6MURdt"
      },
      "source": [
        "## Set Random Seed"
      ]
    },
    {
      "cell_type": "code",
      "execution_count": 3,
      "metadata": {
        "execution": {
          "iopub.execute_input": "2022-02-11T16:31:19.505332Z",
          "iopub.status.busy": "2022-02-11T16:31:19.504925Z",
          "iopub.status.idle": "2022-02-11T16:31:19.512105Z",
          "shell.execute_reply": "2022-02-11T16:31:19.511335Z",
          "shell.execute_reply.started": "2022-02-11T16:31:19.505292Z"
        },
        "id": "2gGQZ3qXURdv",
        "trusted": true
      },
      "outputs": [],
      "source": [
        "SEED = 420\n",
        "\n",
        "random.seed(SEED)\n",
        "np.random.seed(SEED)\n",
        "torch.manual_seed(SEED)\n",
        "torch.backends.cudnn.deterministic = True"
      ]
    },
    {
      "cell_type": "markdown",
      "metadata": {
        "id": "NmyaQLORURdx"
      },
      "source": [
        "## Load dataset"
      ]
    },
    {
      "cell_type": "code",
      "execution_count": 4,
      "metadata": {
        "execution": {
          "iopub.execute_input": "2022-02-11T16:31:19.514416Z",
          "iopub.status.busy": "2022-02-11T16:31:19.514014Z",
          "iopub.status.idle": "2022-02-11T16:31:23.736686Z",
          "shell.execute_reply": "2022-02-11T16:31:23.735955Z",
          "shell.execute_reply.started": "2022-02-11T16:31:19.514379Z"
        },
        "id": "fUdwVCbvURdy",
        "trusted": true,
        "colab": {
          "base_uri": "https://localhost:8080/",
          "height": 84,
          "referenced_widgets": [
            "ccf09dfb99f24974b49c8fd632953cfd",
            "393b7a2750754b95aaa725278e40a641",
            "73183f6f25e546958f2225a0fab1894c",
            "8c437d98cb7b456bac736789c4a07ab2",
            "6dae4a05131b418c867e51c925ade22a",
            "4e7c73d5ab224b6ab773cda30fce63af",
            "3f264dad6abd448b95692941818e1878",
            "0f8610b26afe4e7bbd971b89958dc5f9",
            "6110398e4d1d4f6d96213e9df621e589",
            "548cb49ebce24bf38ae4862821bfbba7",
            "52d500e4822b4cfca238257b436a61ca"
          ]
        },
        "outputId": "7df8e711-4e51-4794-cb0f-59da992979f4"
      },
      "outputs": [
        {
          "output_type": "stream",
          "name": "stderr",
          "text": [
            "Using custom data configuration default\n",
            "Reusing dataset trec (/root/.cache/huggingface/datasets/trec/default/1.1.0/751da1ab101b8d297a3d6e9c79ee9b0173ff94c4497b75677b59b61d5467a9b9)\n"
          ]
        },
        {
          "output_type": "display_data",
          "data": {
            "application/vnd.jupyter.widget-view+json": {
              "model_id": "ccf09dfb99f24974b49c8fd632953cfd",
              "version_minor": 0,
              "version_major": 2
            },
            "text/plain": [
              "  0%|          | 0/2 [00:00<?, ?it/s]"
            ]
          },
          "metadata": {}
        }
      ],
      "source": [
        "dataset = load_dataset(\"trec\")"
      ]
    },
    {
      "cell_type": "markdown",
      "metadata": {
        "id": "zYNLacd0URd0"
      },
      "source": [
        "## Exploring the dataset"
      ]
    },
    {
      "cell_type": "code",
      "execution_count": 5,
      "metadata": {
        "execution": {
          "iopub.execute_input": "2022-02-11T16:32:21.345747Z",
          "iopub.status.busy": "2022-02-11T16:32:21.345142Z",
          "iopub.status.idle": "2022-02-11T16:32:21.351291Z",
          "shell.execute_reply": "2022-02-11T16:32:21.350114Z",
          "shell.execute_reply.started": "2022-02-11T16:32:21.345702Z"
        },
        "id": "Wt0vwb8WURd2",
        "trusted": true,
        "colab": {
          "base_uri": "https://localhost:8080/"
        },
        "outputId": "43299032-4eb5-4716-9097-3e5a076e7d13"
      },
      "outputs": [
        {
          "output_type": "stream",
          "name": "stdout",
          "text": [
            "DatasetDict({\n",
            "    train: Dataset({\n",
            "        features: ['label-coarse', 'label-fine', 'text'],\n",
            "        num_rows: 5452\n",
            "    })\n",
            "    test: Dataset({\n",
            "        features: ['label-coarse', 'label-fine', 'text'],\n",
            "        num_rows: 500\n",
            "    })\n",
            "})\n"
          ]
        }
      ],
      "source": [
        "print(dataset)"
      ]
    },
    {
      "cell_type": "code",
      "execution_count": 6,
      "metadata": {
        "execution": {
          "iopub.execute_input": "2022-02-11T16:32:21.569245Z",
          "iopub.status.busy": "2022-02-11T16:32:21.568762Z",
          "iopub.status.idle": "2022-02-11T16:32:21.577868Z",
          "shell.execute_reply": "2022-02-11T16:32:21.576954Z",
          "shell.execute_reply.started": "2022-02-11T16:32:21.569204Z"
        },
        "id": "f9MO8roWURd3",
        "trusted": true,
        "colab": {
          "base_uri": "https://localhost:8080/"
        },
        "outputId": "e9dc6a15-ce32-4b7c-ae5a-205b06799ad3"
      },
      "outputs": [
        {
          "output_type": "execute_result",
          "data": {
            "text/plain": [
              "dict_keys(['train', 'test'])"
            ]
          },
          "metadata": {},
          "execution_count": 6
        }
      ],
      "source": [
        "dataset.keys()"
      ]
    },
    {
      "cell_type": "code",
      "execution_count": 7,
      "metadata": {
        "execution": {
          "iopub.execute_input": "2022-02-11T16:32:22.103095Z",
          "iopub.status.busy": "2022-02-11T16:32:22.102667Z",
          "iopub.status.idle": "2022-02-11T16:32:22.110095Z",
          "shell.execute_reply": "2022-02-11T16:32:22.109131Z",
          "shell.execute_reply.started": "2022-02-11T16:32:22.103048Z"
        },
        "id": "2LfL5agrURd4",
        "trusted": true,
        "colab": {
          "base_uri": "https://localhost:8080/"
        },
        "outputId": "afe203f8-5fd1-4ed1-fa96-511207b9ee36"
      },
      "outputs": [
        {
          "output_type": "stream",
          "name": "stdout",
          "text": [
            "413073\n",
            "The Text REtrieval Conference (TREC) Question Classification dataset contains 5500 labeled questions in training set and another 500 for test set. The dataset has 6 labels, 47 level-2 labels. Average length of each sentence is 10, vocabulary size of 8700.\n",
            "\n",
            "Data are collected from four sources: 4,500 English questions published by USC (Hovy et al., 2001), about 500 manually constructed questions for a few rare classes, 894 TREC 8 and TREC 9 questions, and also 500 questions from TREC 10 which serves as the test set.\n",
            "\n",
            "{'label-coarse': ClassLabel(num_classes=6, names=['DESC', 'ENTY', 'ABBR', 'HUM', 'NUM', 'LOC'], names_file=None, id=None), 'label-fine': ClassLabel(num_classes=47, names=['manner', 'cremat', 'animal', 'exp', 'ind', 'gr', 'title', 'def', 'date', 'reason', 'event', 'state', 'desc', 'count', 'other', 'letter', 'religion', 'food', 'country', 'color', 'termeq', 'city', 'body', 'dismed', 'mount', 'money', 'product', 'period', 'substance', 'sport', 'plant', 'techmeth', 'volsize', 'instru', 'abb', 'speed', 'word', 'lang', 'perc', 'code', 'dist', 'temp', 'symbol', 'ord', 'veh', 'weight', 'currency'], names_file=None, id=None), 'text': Value(dtype='string', id=None)}\n"
          ]
        }
      ],
      "source": [
        "print(dataset[\"train\"].dataset_size)\n",
        "print(dataset[\"train\"].description)\n",
        "print(dataset[\"train\"].features)\n"
      ]
    },
    {
      "cell_type": "code",
      "execution_count": 8,
      "metadata": {
        "execution": {
          "iopub.execute_input": "2022-02-11T16:32:22.653107Z",
          "iopub.status.busy": "2022-02-11T16:32:22.652826Z",
          "iopub.status.idle": "2022-02-11T16:32:22.661040Z",
          "shell.execute_reply": "2022-02-11T16:32:22.660268Z",
          "shell.execute_reply.started": "2022-02-11T16:32:22.653074Z"
        },
        "id": "qQVJs8R4URd4",
        "trusted": true,
        "colab": {
          "base_uri": "https://localhost:8080/"
        },
        "outputId": "b9865aa4-707e-47ef-83ea-1d7f811f0fe7"
      },
      "outputs": [
        {
          "output_type": "execute_result",
          "data": {
            "text/plain": [
              "{'label-coarse': 0,\n",
              " 'label-fine': 0,\n",
              " 'text': 'How did serfdom develop in and then leave Russia ?'}"
            ]
          },
          "metadata": {},
          "execution_count": 8
        }
      ],
      "source": [
        "# Sample data point in TREC\n",
        "\n",
        "dataset[\"train\"][0]"
      ]
    },
    {
      "cell_type": "code",
      "execution_count": 9,
      "metadata": {
        "execution": {
          "iopub.execute_input": "2022-02-11T16:32:23.005606Z",
          "iopub.status.busy": "2022-02-11T16:32:23.005059Z",
          "iopub.status.idle": "2022-02-11T16:32:23.376922Z",
          "shell.execute_reply": "2022-02-11T16:32:23.375969Z",
          "shell.execute_reply.started": "2022-02-11T16:32:23.005567Z"
        },
        "id": "_hYsLv2vURd6",
        "trusted": true,
        "colab": {
          "base_uri": "https://localhost:8080/",
          "height": 206
        },
        "outputId": "33d2c2ef-986d-4f8f-cf7e-c0a6e13a0834"
      },
      "outputs": [
        {
          "output_type": "execute_result",
          "data": {
            "text/html": [
              "\n",
              "  <div id=\"df-b5c771d7-4ce6-4f7c-9c2d-43913cf91a60\">\n",
              "    <div class=\"colab-df-container\">\n",
              "      <div>\n",
              "<style scoped>\n",
              "    .dataframe tbody tr th:only-of-type {\n",
              "        vertical-align: middle;\n",
              "    }\n",
              "\n",
              "    .dataframe tbody tr th {\n",
              "        vertical-align: top;\n",
              "    }\n",
              "\n",
              "    .dataframe thead th {\n",
              "        text-align: right;\n",
              "    }\n",
              "</style>\n",
              "<table border=\"1\" class=\"dataframe\">\n",
              "  <thead>\n",
              "    <tr style=\"text-align: right;\">\n",
              "      <th></th>\n",
              "      <th>label-coarse</th>\n",
              "      <th>label-fine</th>\n",
              "      <th>text</th>\n",
              "    </tr>\n",
              "  </thead>\n",
              "  <tbody>\n",
              "    <tr>\n",
              "      <th>0</th>\n",
              "      <td>0</td>\n",
              "      <td>0</td>\n",
              "      <td>How did serfdom develop in and then leave Russ...</td>\n",
              "    </tr>\n",
              "    <tr>\n",
              "      <th>1</th>\n",
              "      <td>1</td>\n",
              "      <td>1</td>\n",
              "      <td>What films featured the character Popeye Doyle ?</td>\n",
              "    </tr>\n",
              "    <tr>\n",
              "      <th>2</th>\n",
              "      <td>0</td>\n",
              "      <td>0</td>\n",
              "      <td>How can I find a list of celebrities ' real na...</td>\n",
              "    </tr>\n",
              "    <tr>\n",
              "      <th>3</th>\n",
              "      <td>1</td>\n",
              "      <td>2</td>\n",
              "      <td>What fowl grabs the spotlight after the Chines...</td>\n",
              "    </tr>\n",
              "    <tr>\n",
              "      <th>4</th>\n",
              "      <td>2</td>\n",
              "      <td>3</td>\n",
              "      <td>What is the full form of .com ?</td>\n",
              "    </tr>\n",
              "  </tbody>\n",
              "</table>\n",
              "</div>\n",
              "      <button class=\"colab-df-convert\" onclick=\"convertToInteractive('df-b5c771d7-4ce6-4f7c-9c2d-43913cf91a60')\"\n",
              "              title=\"Convert this dataframe to an interactive table.\"\n",
              "              style=\"display:none;\">\n",
              "        \n",
              "  <svg xmlns=\"http://www.w3.org/2000/svg\" height=\"24px\"viewBox=\"0 0 24 24\"\n",
              "       width=\"24px\">\n",
              "    <path d=\"M0 0h24v24H0V0z\" fill=\"none\"/>\n",
              "    <path d=\"M18.56 5.44l.94 2.06.94-2.06 2.06-.94-2.06-.94-.94-2.06-.94 2.06-2.06.94zm-11 1L8.5 8.5l.94-2.06 2.06-.94-2.06-.94L8.5 2.5l-.94 2.06-2.06.94zm10 10l.94 2.06.94-2.06 2.06-.94-2.06-.94-.94-2.06-.94 2.06-2.06.94z\"/><path d=\"M17.41 7.96l-1.37-1.37c-.4-.4-.92-.59-1.43-.59-.52 0-1.04.2-1.43.59L10.3 9.45l-7.72 7.72c-.78.78-.78 2.05 0 2.83L4 21.41c.39.39.9.59 1.41.59.51 0 1.02-.2 1.41-.59l7.78-7.78 2.81-2.81c.8-.78.8-2.07 0-2.86zM5.41 20L4 18.59l7.72-7.72 1.47 1.35L5.41 20z\"/>\n",
              "  </svg>\n",
              "      </button>\n",
              "      \n",
              "  <style>\n",
              "    .colab-df-container {\n",
              "      display:flex;\n",
              "      flex-wrap:wrap;\n",
              "      gap: 12px;\n",
              "    }\n",
              "\n",
              "    .colab-df-convert {\n",
              "      background-color: #E8F0FE;\n",
              "      border: none;\n",
              "      border-radius: 50%;\n",
              "      cursor: pointer;\n",
              "      display: none;\n",
              "      fill: #1967D2;\n",
              "      height: 32px;\n",
              "      padding: 0 0 0 0;\n",
              "      width: 32px;\n",
              "    }\n",
              "\n",
              "    .colab-df-convert:hover {\n",
              "      background-color: #E2EBFA;\n",
              "      box-shadow: 0px 1px 2px rgba(60, 64, 67, 0.3), 0px 1px 3px 1px rgba(60, 64, 67, 0.15);\n",
              "      fill: #174EA6;\n",
              "    }\n",
              "\n",
              "    [theme=dark] .colab-df-convert {\n",
              "      background-color: #3B4455;\n",
              "      fill: #D2E3FC;\n",
              "    }\n",
              "\n",
              "    [theme=dark] .colab-df-convert:hover {\n",
              "      background-color: #434B5C;\n",
              "      box-shadow: 0px 1px 3px 1px rgba(0, 0, 0, 0.15);\n",
              "      filter: drop-shadow(0px 1px 2px rgba(0, 0, 0, 0.3));\n",
              "      fill: #FFFFFF;\n",
              "    }\n",
              "  </style>\n",
              "\n",
              "      <script>\n",
              "        const buttonEl =\n",
              "          document.querySelector('#df-b5c771d7-4ce6-4f7c-9c2d-43913cf91a60 button.colab-df-convert');\n",
              "        buttonEl.style.display =\n",
              "          google.colab.kernel.accessAllowed ? 'block' : 'none';\n",
              "\n",
              "        async function convertToInteractive(key) {\n",
              "          const element = document.querySelector('#df-b5c771d7-4ce6-4f7c-9c2d-43913cf91a60');\n",
              "          const dataTable =\n",
              "            await google.colab.kernel.invokeFunction('convertToInteractive',\n",
              "                                                     [key], {});\n",
              "          if (!dataTable) return;\n",
              "\n",
              "          const docLinkHtml = 'Like what you see? Visit the ' +\n",
              "            '<a target=\"_blank\" href=https://colab.research.google.com/notebooks/data_table.ipynb>data table notebook</a>'\n",
              "            + ' to learn more about interactive tables.';\n",
              "          element.innerHTML = '';\n",
              "          dataTable['output_type'] = 'display_data';\n",
              "          await google.colab.output.renderOutput(dataTable, element);\n",
              "          const docLink = document.createElement('div');\n",
              "          docLink.innerHTML = docLinkHtml;\n",
              "          element.appendChild(docLink);\n",
              "        }\n",
              "      </script>\n",
              "    </div>\n",
              "  </div>\n",
              "  "
            ],
            "text/plain": [
              "   label-coarse  label-fine                                               text\n",
              "0             0           0  How did serfdom develop in and then leave Russ...\n",
              "1             1           1   What films featured the character Popeye Doyle ?\n",
              "2             0           0  How can I find a list of celebrities ' real na...\n",
              "3             1           2  What fowl grabs the spotlight after the Chines...\n",
              "4             2           3                    What is the full form of .com ?"
            ]
          },
          "metadata": {},
          "execution_count": 9
        }
      ],
      "source": [
        "train_df = pd.DataFrame(dataset[\"train\"])\n",
        "train_df.head()"
      ]
    },
    {
      "cell_type": "code",
      "execution_count": 10,
      "metadata": {
        "execution": {
          "iopub.execute_input": "2022-02-11T16:32:23.379151Z",
          "iopub.status.busy": "2022-02-11T16:32:23.378839Z",
          "iopub.status.idle": "2022-02-11T16:32:23.433612Z",
          "shell.execute_reply": "2022-02-11T16:32:23.432907Z",
          "shell.execute_reply.started": "2022-02-11T16:32:23.379111Z"
        },
        "id": "JFAIRdd9VMx8",
        "trusted": true,
        "colab": {
          "base_uri": "https://localhost:8080/",
          "height": 206
        },
        "outputId": "42844e69-7bb7-445c-b841-a19b5ea87b19"
      },
      "outputs": [
        {
          "output_type": "execute_result",
          "data": {
            "text/html": [
              "\n",
              "  <div id=\"df-d401e018-a119-4dd8-81a6-f38e4db93fc6\">\n",
              "    <div class=\"colab-df-container\">\n",
              "      <div>\n",
              "<style scoped>\n",
              "    .dataframe tbody tr th:only-of-type {\n",
              "        vertical-align: middle;\n",
              "    }\n",
              "\n",
              "    .dataframe tbody tr th {\n",
              "        vertical-align: top;\n",
              "    }\n",
              "\n",
              "    .dataframe thead th {\n",
              "        text-align: right;\n",
              "    }\n",
              "</style>\n",
              "<table border=\"1\" class=\"dataframe\">\n",
              "  <thead>\n",
              "    <tr style=\"text-align: right;\">\n",
              "      <th></th>\n",
              "      <th>label-coarse</th>\n",
              "      <th>label-fine</th>\n",
              "      <th>text</th>\n",
              "    </tr>\n",
              "  </thead>\n",
              "  <tbody>\n",
              "    <tr>\n",
              "      <th>0</th>\n",
              "      <td>4</td>\n",
              "      <td>40</td>\n",
              "      <td>How far is it from Denver to Aspen ?</td>\n",
              "    </tr>\n",
              "    <tr>\n",
              "      <th>1</th>\n",
              "      <td>5</td>\n",
              "      <td>21</td>\n",
              "      <td>What county is Modesto , California in ?</td>\n",
              "    </tr>\n",
              "    <tr>\n",
              "      <th>2</th>\n",
              "      <td>3</td>\n",
              "      <td>12</td>\n",
              "      <td>Who was Galileo ?</td>\n",
              "    </tr>\n",
              "    <tr>\n",
              "      <th>3</th>\n",
              "      <td>0</td>\n",
              "      <td>7</td>\n",
              "      <td>What is an atom ?</td>\n",
              "    </tr>\n",
              "    <tr>\n",
              "      <th>4</th>\n",
              "      <td>4</td>\n",
              "      <td>8</td>\n",
              "      <td>When did Hawaii become a state ?</td>\n",
              "    </tr>\n",
              "  </tbody>\n",
              "</table>\n",
              "</div>\n",
              "      <button class=\"colab-df-convert\" onclick=\"convertToInteractive('df-d401e018-a119-4dd8-81a6-f38e4db93fc6')\"\n",
              "              title=\"Convert this dataframe to an interactive table.\"\n",
              "              style=\"display:none;\">\n",
              "        \n",
              "  <svg xmlns=\"http://www.w3.org/2000/svg\" height=\"24px\"viewBox=\"0 0 24 24\"\n",
              "       width=\"24px\">\n",
              "    <path d=\"M0 0h24v24H0V0z\" fill=\"none\"/>\n",
              "    <path d=\"M18.56 5.44l.94 2.06.94-2.06 2.06-.94-2.06-.94-.94-2.06-.94 2.06-2.06.94zm-11 1L8.5 8.5l.94-2.06 2.06-.94-2.06-.94L8.5 2.5l-.94 2.06-2.06.94zm10 10l.94 2.06.94-2.06 2.06-.94-2.06-.94-.94-2.06-.94 2.06-2.06.94z\"/><path d=\"M17.41 7.96l-1.37-1.37c-.4-.4-.92-.59-1.43-.59-.52 0-1.04.2-1.43.59L10.3 9.45l-7.72 7.72c-.78.78-.78 2.05 0 2.83L4 21.41c.39.39.9.59 1.41.59.51 0 1.02-.2 1.41-.59l7.78-7.78 2.81-2.81c.8-.78.8-2.07 0-2.86zM5.41 20L4 18.59l7.72-7.72 1.47 1.35L5.41 20z\"/>\n",
              "  </svg>\n",
              "      </button>\n",
              "      \n",
              "  <style>\n",
              "    .colab-df-container {\n",
              "      display:flex;\n",
              "      flex-wrap:wrap;\n",
              "      gap: 12px;\n",
              "    }\n",
              "\n",
              "    .colab-df-convert {\n",
              "      background-color: #E8F0FE;\n",
              "      border: none;\n",
              "      border-radius: 50%;\n",
              "      cursor: pointer;\n",
              "      display: none;\n",
              "      fill: #1967D2;\n",
              "      height: 32px;\n",
              "      padding: 0 0 0 0;\n",
              "      width: 32px;\n",
              "    }\n",
              "\n",
              "    .colab-df-convert:hover {\n",
              "      background-color: #E2EBFA;\n",
              "      box-shadow: 0px 1px 2px rgba(60, 64, 67, 0.3), 0px 1px 3px 1px rgba(60, 64, 67, 0.15);\n",
              "      fill: #174EA6;\n",
              "    }\n",
              "\n",
              "    [theme=dark] .colab-df-convert {\n",
              "      background-color: #3B4455;\n",
              "      fill: #D2E3FC;\n",
              "    }\n",
              "\n",
              "    [theme=dark] .colab-df-convert:hover {\n",
              "      background-color: #434B5C;\n",
              "      box-shadow: 0px 1px 3px 1px rgba(0, 0, 0, 0.15);\n",
              "      filter: drop-shadow(0px 1px 2px rgba(0, 0, 0, 0.3));\n",
              "      fill: #FFFFFF;\n",
              "    }\n",
              "  </style>\n",
              "\n",
              "      <script>\n",
              "        const buttonEl =\n",
              "          document.querySelector('#df-d401e018-a119-4dd8-81a6-f38e4db93fc6 button.colab-df-convert');\n",
              "        buttonEl.style.display =\n",
              "          google.colab.kernel.accessAllowed ? 'block' : 'none';\n",
              "\n",
              "        async function convertToInteractive(key) {\n",
              "          const element = document.querySelector('#df-d401e018-a119-4dd8-81a6-f38e4db93fc6');\n",
              "          const dataTable =\n",
              "            await google.colab.kernel.invokeFunction('convertToInteractive',\n",
              "                                                     [key], {});\n",
              "          if (!dataTable) return;\n",
              "\n",
              "          const docLinkHtml = 'Like what you see? Visit the ' +\n",
              "            '<a target=\"_blank\" href=https://colab.research.google.com/notebooks/data_table.ipynb>data table notebook</a>'\n",
              "            + ' to learn more about interactive tables.';\n",
              "          element.innerHTML = '';\n",
              "          dataTable['output_type'] = 'display_data';\n",
              "          await google.colab.output.renderOutput(dataTable, element);\n",
              "          const docLink = document.createElement('div');\n",
              "          docLink.innerHTML = docLinkHtml;\n",
              "          element.appendChild(docLink);\n",
              "        }\n",
              "      </script>\n",
              "    </div>\n",
              "  </div>\n",
              "  "
            ],
            "text/plain": [
              "   label-coarse  label-fine                                      text\n",
              "0             4          40      How far is it from Denver to Aspen ?\n",
              "1             5          21  What county is Modesto , California in ?\n",
              "2             3          12                         Who was Galileo ?\n",
              "3             0           7                         What is an atom ?\n",
              "4             4           8          When did Hawaii become a state ?"
            ]
          },
          "metadata": {},
          "execution_count": 10
        }
      ],
      "source": [
        "test_df = pd.DataFrame(dataset[\"test\"])\n",
        "test_df.head()"
      ]
    },
    {
      "cell_type": "code",
      "execution_count": 11,
      "metadata": {
        "execution": {
          "iopub.execute_input": "2022-02-11T16:32:23.697541Z",
          "iopub.status.busy": "2022-02-11T16:32:23.697002Z",
          "iopub.status.idle": "2022-02-11T16:32:23.720259Z",
          "shell.execute_reply": "2022-02-11T16:32:23.719490Z",
          "shell.execute_reply.started": "2022-02-11T16:32:23.697503Z"
        },
        "id": "fJn_nQeeWMil",
        "trusted": true,
        "colab": {
          "base_uri": "https://localhost:8080/"
        },
        "outputId": "2a83730b-5ca0-46c0-d096-835955faf62d"
      },
      "outputs": [
        {
          "output_type": "stream",
          "name": "stdout",
          "text": [
            "<class 'pandas.core.frame.DataFrame'>\n",
            "RangeIndex: 5452 entries, 0 to 5451\n",
            "Data columns (total 3 columns):\n",
            " #   Column        Non-Null Count  Dtype \n",
            "---  ------        --------------  ----- \n",
            " 0   label-coarse  5452 non-null   int64 \n",
            " 1   label-fine    5452 non-null   int64 \n",
            " 2   text          5452 non-null   object\n",
            "dtypes: int64(2), object(1)\n",
            "memory usage: 127.9+ KB\n"
          ]
        }
      ],
      "source": [
        "train_df.info()"
      ]
    },
    {
      "cell_type": "markdown",
      "metadata": {
        "id": "o-iy1gd9URd5"
      },
      "source": [
        "## Tokenize Data"
      ]
    },
    {
      "cell_type": "code",
      "execution_count": 12,
      "metadata": {
        "execution": {
          "iopub.execute_input": "2022-02-11T16:32:24.381985Z",
          "iopub.status.busy": "2022-02-11T16:32:24.381099Z",
          "iopub.status.idle": "2022-02-11T16:32:26.103244Z",
          "shell.execute_reply": "2022-02-11T16:32:26.102516Z",
          "shell.execute_reply.started": "2022-02-11T16:32:24.381932Z"
        },
        "id": "8df24zCMURd6",
        "trusted": true
      },
      "outputs": [],
      "source": [
        "nlp = spacy.load(\"en_core_web_md\")\n",
        "\n",
        "def tokenize(text):\n",
        "\t# text = re.sub(r\"[^\\x00-\\x7F]+\", \"\", str(text)) # remove non-ASCII characters\n",
        "\t# regex = re.compile('[' + re.escape(string.punctuation) + '0-9\\\\r\\\\t\\\\n]') # remove punctuation and numbers\n",
        "\t# no_punctuation = regex.sub(\" \", text.lower())\t\n",
        "\t# no_punctuation = re.sub(r\"[^\\w\\s]\", \"\", text.lower())\n",
        "\t\n",
        "\ttext = re.sub('[^a-z ]+', '', text.lower()) # remove all non-alphabetic, non-space characters\n",
        "\tmultiple_spaces = re.sub(' +', ' ', text.lower()) # convert multiple spaces to single\n",
        "\t\n",
        "\treturn [token.text for token in nlp.tokenizer(text)]"
      ]
    },
    {
      "cell_type": "code",
      "execution_count": 13,
      "metadata": {
        "execution": {
          "iopub.execute_input": "2022-02-11T16:32:26.105016Z",
          "iopub.status.busy": "2022-02-11T16:32:26.104747Z",
          "iopub.status.idle": "2022-02-11T16:32:26.118579Z",
          "shell.execute_reply": "2022-02-11T16:32:26.117741Z",
          "shell.execute_reply.started": "2022-02-11T16:32:26.104978Z"
        },
        "id": "KjJg4vM0Z1Fo",
        "trusted": true,
        "colab": {
          "base_uri": "https://localhost:8080/",
          "height": 206
        },
        "outputId": "23849c79-f754-46ba-f653-22387c96904d"
      },
      "outputs": [
        {
          "output_type": "execute_result",
          "data": {
            "text/html": [
              "\n",
              "  <div id=\"df-6f7ef6d7-2ab5-40a9-8cca-a113a6ab1d8e\">\n",
              "    <div class=\"colab-df-container\">\n",
              "      <div>\n",
              "<style scoped>\n",
              "    .dataframe tbody tr th:only-of-type {\n",
              "        vertical-align: middle;\n",
              "    }\n",
              "\n",
              "    .dataframe tbody tr th {\n",
              "        vertical-align: top;\n",
              "    }\n",
              "\n",
              "    .dataframe thead th {\n",
              "        text-align: right;\n",
              "    }\n",
              "</style>\n",
              "<table border=\"1\" class=\"dataframe\">\n",
              "  <thead>\n",
              "    <tr style=\"text-align: right;\">\n",
              "      <th></th>\n",
              "      <th>label-coarse</th>\n",
              "      <th>label-fine</th>\n",
              "      <th>text</th>\n",
              "    </tr>\n",
              "  </thead>\n",
              "  <tbody>\n",
              "    <tr>\n",
              "      <th>0</th>\n",
              "      <td>0</td>\n",
              "      <td>0</td>\n",
              "      <td>How did serfdom develop in and then leave Russ...</td>\n",
              "    </tr>\n",
              "    <tr>\n",
              "      <th>1</th>\n",
              "      <td>1</td>\n",
              "      <td>1</td>\n",
              "      <td>What films featured the character Popeye Doyle ?</td>\n",
              "    </tr>\n",
              "    <tr>\n",
              "      <th>2</th>\n",
              "      <td>0</td>\n",
              "      <td>0</td>\n",
              "      <td>How can I find a list of celebrities ' real na...</td>\n",
              "    </tr>\n",
              "    <tr>\n",
              "      <th>3</th>\n",
              "      <td>1</td>\n",
              "      <td>2</td>\n",
              "      <td>What fowl grabs the spotlight after the Chines...</td>\n",
              "    </tr>\n",
              "    <tr>\n",
              "      <th>4</th>\n",
              "      <td>2</td>\n",
              "      <td>3</td>\n",
              "      <td>What is the full form of .com ?</td>\n",
              "    </tr>\n",
              "  </tbody>\n",
              "</table>\n",
              "</div>\n",
              "      <button class=\"colab-df-convert\" onclick=\"convertToInteractive('df-6f7ef6d7-2ab5-40a9-8cca-a113a6ab1d8e')\"\n",
              "              title=\"Convert this dataframe to an interactive table.\"\n",
              "              style=\"display:none;\">\n",
              "        \n",
              "  <svg xmlns=\"http://www.w3.org/2000/svg\" height=\"24px\"viewBox=\"0 0 24 24\"\n",
              "       width=\"24px\">\n",
              "    <path d=\"M0 0h24v24H0V0z\" fill=\"none\"/>\n",
              "    <path d=\"M18.56 5.44l.94 2.06.94-2.06 2.06-.94-2.06-.94-.94-2.06-.94 2.06-2.06.94zm-11 1L8.5 8.5l.94-2.06 2.06-.94-2.06-.94L8.5 2.5l-.94 2.06-2.06.94zm10 10l.94 2.06.94-2.06 2.06-.94-2.06-.94-.94-2.06-.94 2.06-2.06.94z\"/><path d=\"M17.41 7.96l-1.37-1.37c-.4-.4-.92-.59-1.43-.59-.52 0-1.04.2-1.43.59L10.3 9.45l-7.72 7.72c-.78.78-.78 2.05 0 2.83L4 21.41c.39.39.9.59 1.41.59.51 0 1.02-.2 1.41-.59l7.78-7.78 2.81-2.81c.8-.78.8-2.07 0-2.86zM5.41 20L4 18.59l7.72-7.72 1.47 1.35L5.41 20z\"/>\n",
              "  </svg>\n",
              "      </button>\n",
              "      \n",
              "  <style>\n",
              "    .colab-df-container {\n",
              "      display:flex;\n",
              "      flex-wrap:wrap;\n",
              "      gap: 12px;\n",
              "    }\n",
              "\n",
              "    .colab-df-convert {\n",
              "      background-color: #E8F0FE;\n",
              "      border: none;\n",
              "      border-radius: 50%;\n",
              "      cursor: pointer;\n",
              "      display: none;\n",
              "      fill: #1967D2;\n",
              "      height: 32px;\n",
              "      padding: 0 0 0 0;\n",
              "      width: 32px;\n",
              "    }\n",
              "\n",
              "    .colab-df-convert:hover {\n",
              "      background-color: #E2EBFA;\n",
              "      box-shadow: 0px 1px 2px rgba(60, 64, 67, 0.3), 0px 1px 3px 1px rgba(60, 64, 67, 0.15);\n",
              "      fill: #174EA6;\n",
              "    }\n",
              "\n",
              "    [theme=dark] .colab-df-convert {\n",
              "      background-color: #3B4455;\n",
              "      fill: #D2E3FC;\n",
              "    }\n",
              "\n",
              "    [theme=dark] .colab-df-convert:hover {\n",
              "      background-color: #434B5C;\n",
              "      box-shadow: 0px 1px 3px 1px rgba(0, 0, 0, 0.15);\n",
              "      filter: drop-shadow(0px 1px 2px rgba(0, 0, 0, 0.3));\n",
              "      fill: #FFFFFF;\n",
              "    }\n",
              "  </style>\n",
              "\n",
              "      <script>\n",
              "        const buttonEl =\n",
              "          document.querySelector('#df-6f7ef6d7-2ab5-40a9-8cca-a113a6ab1d8e button.colab-df-convert');\n",
              "        buttonEl.style.display =\n",
              "          google.colab.kernel.accessAllowed ? 'block' : 'none';\n",
              "\n",
              "        async function convertToInteractive(key) {\n",
              "          const element = document.querySelector('#df-6f7ef6d7-2ab5-40a9-8cca-a113a6ab1d8e');\n",
              "          const dataTable =\n",
              "            await google.colab.kernel.invokeFunction('convertToInteractive',\n",
              "                                                     [key], {});\n",
              "          if (!dataTable) return;\n",
              "\n",
              "          const docLinkHtml = 'Like what you see? Visit the ' +\n",
              "            '<a target=\"_blank\" href=https://colab.research.google.com/notebooks/data_table.ipynb>data table notebook</a>'\n",
              "            + ' to learn more about interactive tables.';\n",
              "          element.innerHTML = '';\n",
              "          dataTable['output_type'] = 'display_data';\n",
              "          await google.colab.output.renderOutput(dataTable, element);\n",
              "          const docLink = document.createElement('div');\n",
              "          docLink.innerHTML = docLinkHtml;\n",
              "          element.appendChild(docLink);\n",
              "        }\n",
              "      </script>\n",
              "    </div>\n",
              "  </div>\n",
              "  "
            ],
            "text/plain": [
              "   label-coarse  label-fine                                               text\n",
              "0             0           0  How did serfdom develop in and then leave Russ...\n",
              "1             1           1   What films featured the character Popeye Doyle ?\n",
              "2             0           0  How can I find a list of celebrities ' real na...\n",
              "3             1           2  What fowl grabs the spotlight after the Chines...\n",
              "4             2           3                    What is the full form of .com ?"
            ]
          },
          "metadata": {},
          "execution_count": 13
        }
      ],
      "source": [
        "train_df[\"text\"] = train_df[\"text\"].str.strip()\n",
        "train_df.head()"
      ]
    },
    {
      "cell_type": "code",
      "execution_count": 14,
      "metadata": {
        "execution": {
          "iopub.execute_input": "2022-02-11T16:32:28.025624Z",
          "iopub.status.busy": "2022-02-11T16:32:28.025070Z",
          "iopub.status.idle": "2022-02-11T16:32:29.144468Z",
          "shell.execute_reply": "2022-02-11T16:32:29.143701Z",
          "shell.execute_reply.started": "2022-02-11T16:32:28.025579Z"
        },
        "id": "qUbf2My0VU8I",
        "trusted": true
      },
      "outputs": [],
      "source": [
        "# Initialize counter var and count occurence of words (rather tokens of the words) in the dataset\n",
        "\n",
        "counts = Counter()\n",
        "for index, row in train_df.iterrows():\n",
        "  counts.update(tokenize(row[\"text\"]))"
      ]
    },
    {
      "cell_type": "code",
      "execution_count": 15,
      "metadata": {
        "execution": {
          "iopub.execute_input": "2022-02-11T16:32:29.148018Z",
          "iopub.status.busy": "2022-02-11T16:32:29.147801Z",
          "iopub.status.idle": "2022-02-11T16:32:29.158312Z",
          "shell.execute_reply": "2022-02-11T16:32:29.157626Z",
          "shell.execute_reply.started": "2022-02-11T16:32:29.147991Z"
        },
        "id": "Vadd_eauX75j",
        "trusted": true,
        "colab": {
          "base_uri": "https://localhost:8080/"
        },
        "outputId": "46b30f01-e052-4ea5-e4e3-b7a5cc0ca1d8"
      },
      "outputs": [
        {
          "output_type": "stream",
          "name": "stdout",
          "text": [
            "# of words before: 8319\n",
            "# of words before: 3352\n"
          ]
        }
      ],
      "source": [
        "print(f\"# of words before: {len(counts.keys())}\")\n",
        "\n",
        "# Remove words that occur only once, and whitespaces\n",
        "for word in list(counts):\n",
        "  if counts[word] < 2:\n",
        "    del counts[word]\n",
        "  \n",
        "  if ' ' in word:\n",
        "    del counts[word]\n",
        "\n",
        "print(f\"# of words before: {len(counts.keys())}\")"
      ]
    },
    {
      "cell_type": "code",
      "execution_count": 16,
      "metadata": {
        "execution": {
          "iopub.execute_input": "2022-02-11T16:32:29.160171Z",
          "iopub.status.busy": "2022-02-11T16:32:29.159676Z",
          "iopub.status.idle": "2022-02-11T16:32:29.172166Z",
          "shell.execute_reply": "2022-02-11T16:32:29.171454Z",
          "shell.execute_reply.started": "2022-02-11T16:32:29.160132Z"
        },
        "id": "EZq88TvGnKy2",
        "trusted": true
      },
      "outputs": [],
      "source": [
        "# Create a vocabulary from remaining words, and assign unknown to the removed words\n",
        "\n",
        "vocab2index = {\"\": 0, \"UNK\": 1}\n",
        "words = [\"\", \"UNK\"]\n",
        "for word in counts:\n",
        "    vocab2index[word] = len(words)\n",
        "    words.append(word)"
      ]
    },
    {
      "cell_type": "code",
      "execution_count": 17,
      "metadata": {
        "execution": {
          "iopub.execute_input": "2022-02-11T16:32:29.573591Z",
          "iopub.status.busy": "2022-02-11T16:32:29.572977Z",
          "iopub.status.idle": "2022-02-11T16:32:29.640112Z",
          "shell.execute_reply": "2022-02-11T16:32:29.639352Z",
          "shell.execute_reply.started": "2022-02-11T16:32:29.573550Z"
        },
        "id": "-uM456tGdY9J",
        "trusted": true,
        "colab": {
          "base_uri": "https://localhost:8080/"
        },
        "outputId": "bbf1e6a6-f55b-48c2-9a9c-8f594d67b5fd"
      },
      "outputs": [
        {
          "output_type": "stream",
          "name": "stdout",
          "text": [
            "Max # of words: 37\tMin # of words: 3\n"
          ]
        }
      ],
      "source": [
        "max_len = train_df['text'].str.split(\"\\\\s+\").str.len().max()\n",
        "min_len = train_df['text'].str.split(\"\\\\s+\").str.len().min()\n",
        "\n",
        "print(f\"Max # of words: {max_len}\\tMin # of words: {min_len}\") "
      ]
    },
    {
      "cell_type": "code",
      "execution_count": 18,
      "metadata": {
        "execution": {
          "iopub.execute_input": "2022-02-11T16:32:30.129610Z",
          "iopub.status.busy": "2022-02-11T16:32:30.128926Z",
          "iopub.status.idle": "2022-02-11T16:32:30.135433Z",
          "shell.execute_reply": "2022-02-11T16:32:30.134768Z",
          "shell.execute_reply.started": "2022-02-11T16:32:30.129574Z"
        },
        "id": "NIjlZ7UvnTx2",
        "trusted": true
      },
      "outputs": [],
      "source": [
        "# Function to encode sentences\n",
        "def encode_sentence(text, vocab2index, N=80):\n",
        "    tokenized = tokenize(text)\n",
        "    encoded = np.zeros(N, dtype=int)\n",
        "    enc = np.array([vocab2index.get(word, vocab2index[\"UNK\"]) for word in tokenized])\n",
        "    length = min(N, len(enc))\n",
        "    encoded[:length] = enc[:length]\n",
        "    return encoded, length"
      ]
    },
    {
      "cell_type": "code",
      "execution_count": 19,
      "metadata": {
        "execution": {
          "iopub.execute_input": "2022-02-11T16:32:30.483689Z",
          "iopub.status.busy": "2022-02-11T16:32:30.483194Z",
          "iopub.status.idle": "2022-02-11T16:32:31.036629Z",
          "shell.execute_reply": "2022-02-11T16:32:31.035880Z",
          "shell.execute_reply.started": "2022-02-11T16:32:30.483650Z"
        },
        "id": "tYmeRpjwnUMC",
        "trusted": true,
        "colab": {
          "base_uri": "https://localhost:8080/"
        },
        "outputId": "39786952-c5c4-47c2-b900-d1eab24b61ef"
      },
      "outputs": [
        {
          "output_type": "stream",
          "name": "stderr",
          "text": [
            "/usr/local/lib/python3.7/dist-packages/ipykernel_launcher.py:2: VisibleDeprecationWarning: Creating an ndarray from ragged nested sequences (which is a list-or-tuple of lists-or-tuples-or ndarrays with different lengths or shapes) is deprecated. If you meant to do this, you must specify 'dtype=object' when creating the ndarray.\n",
            "  \n",
            "/usr/local/lib/python3.7/dist-packages/ipykernel_launcher.py:3: VisibleDeprecationWarning: Creating an ndarray from ragged nested sequences (which is a list-or-tuple of lists-or-tuples-or ndarrays with different lengths or shapes) is deprecated. If you meant to do this, you must specify 'dtype=object' when creating the ndarray.\n",
            "  This is separate from the ipykernel package so we can avoid doing imports until\n"
          ]
        }
      ],
      "source": [
        "# Apply encoding to train and test DataFrames\n",
        "train_df[\"text\"] = train_df[\"text\"].apply(lambda x: np.array(encode_sentence(x, vocab2index)))\n",
        "test_df[\"text\"] = test_df[\"text\"].apply(lambda x: np.array(encode_sentence(x, vocab2index)))"
      ]
    },
    {
      "cell_type": "code",
      "execution_count": 20,
      "metadata": {
        "execution": {
          "iopub.execute_input": "2022-02-11T16:32:31.038146Z",
          "iopub.status.busy": "2022-02-11T16:32:31.037927Z",
          "iopub.status.idle": "2022-02-11T16:32:31.057483Z",
          "shell.execute_reply": "2022-02-11T16:32:31.056791Z",
          "shell.execute_reply.started": "2022-02-11T16:32:31.038113Z"
        },
        "id": "1JTy4hBloH4A",
        "trusted": true,
        "colab": {
          "base_uri": "https://localhost:8080/",
          "height": 206
        },
        "outputId": "f5dfbd6a-0257-4968-e595-8649d56494c7"
      },
      "outputs": [
        {
          "output_type": "execute_result",
          "data": {
            "text/html": [
              "\n",
              "  <div id=\"df-41e6a7f5-7ffe-4958-979b-a1b71158cc4c\">\n",
              "    <div class=\"colab-df-container\">\n",
              "      <div>\n",
              "<style scoped>\n",
              "    .dataframe tbody tr th:only-of-type {\n",
              "        vertical-align: middle;\n",
              "    }\n",
              "\n",
              "    .dataframe tbody tr th {\n",
              "        vertical-align: top;\n",
              "    }\n",
              "\n",
              "    .dataframe thead th {\n",
              "        text-align: right;\n",
              "    }\n",
              "</style>\n",
              "<table border=\"1\" class=\"dataframe\">\n",
              "  <thead>\n",
              "    <tr style=\"text-align: right;\">\n",
              "      <th></th>\n",
              "      <th>label-coarse</th>\n",
              "      <th>label-fine</th>\n",
              "      <th>text</th>\n",
              "    </tr>\n",
              "  </thead>\n",
              "  <tbody>\n",
              "    <tr>\n",
              "      <th>0</th>\n",
              "      <td>0</td>\n",
              "      <td>0</td>\n",
              "      <td>[[2, 3, 1, 4, 5, 6, 7, 8, 9, 0, 0, 0, 0, 0, 0,...</td>\n",
              "    </tr>\n",
              "    <tr>\n",
              "      <th>1</th>\n",
              "      <td>1</td>\n",
              "      <td>1</td>\n",
              "      <td>[[10, 11, 12, 13, 14, 15, 1, 0, 0, 0, 0, 0, 0,...</td>\n",
              "    </tr>\n",
              "    <tr>\n",
              "      <th>2</th>\n",
              "      <td>0</td>\n",
              "      <td>0</td>\n",
              "      <td>[[2, 16, 17, 18, 19, 20, 21, 22, 1, 23, 24, 0,...</td>\n",
              "    </tr>\n",
              "    <tr>\n",
              "      <th>3</th>\n",
              "      <td>1</td>\n",
              "      <td>2</td>\n",
              "      <td>[[10, 1, 1, 13, 1, 25, 13, 26, 27, 21, 13, 28,...</td>\n",
              "    </tr>\n",
              "    <tr>\n",
              "      <th>4</th>\n",
              "      <td>2</td>\n",
              "      <td>3</td>\n",
              "      <td>[[10, 29, 13, 30, 31, 21, 1, 0, 0, 0, 0, 0, 0,...</td>\n",
              "    </tr>\n",
              "  </tbody>\n",
              "</table>\n",
              "</div>\n",
              "      <button class=\"colab-df-convert\" onclick=\"convertToInteractive('df-41e6a7f5-7ffe-4958-979b-a1b71158cc4c')\"\n",
              "              title=\"Convert this dataframe to an interactive table.\"\n",
              "              style=\"display:none;\">\n",
              "        \n",
              "  <svg xmlns=\"http://www.w3.org/2000/svg\" height=\"24px\"viewBox=\"0 0 24 24\"\n",
              "       width=\"24px\">\n",
              "    <path d=\"M0 0h24v24H0V0z\" fill=\"none\"/>\n",
              "    <path d=\"M18.56 5.44l.94 2.06.94-2.06 2.06-.94-2.06-.94-.94-2.06-.94 2.06-2.06.94zm-11 1L8.5 8.5l.94-2.06 2.06-.94-2.06-.94L8.5 2.5l-.94 2.06-2.06.94zm10 10l.94 2.06.94-2.06 2.06-.94-2.06-.94-.94-2.06-.94 2.06-2.06.94z\"/><path d=\"M17.41 7.96l-1.37-1.37c-.4-.4-.92-.59-1.43-.59-.52 0-1.04.2-1.43.59L10.3 9.45l-7.72 7.72c-.78.78-.78 2.05 0 2.83L4 21.41c.39.39.9.59 1.41.59.51 0 1.02-.2 1.41-.59l7.78-7.78 2.81-2.81c.8-.78.8-2.07 0-2.86zM5.41 20L4 18.59l7.72-7.72 1.47 1.35L5.41 20z\"/>\n",
              "  </svg>\n",
              "      </button>\n",
              "      \n",
              "  <style>\n",
              "    .colab-df-container {\n",
              "      display:flex;\n",
              "      flex-wrap:wrap;\n",
              "      gap: 12px;\n",
              "    }\n",
              "\n",
              "    .colab-df-convert {\n",
              "      background-color: #E8F0FE;\n",
              "      border: none;\n",
              "      border-radius: 50%;\n",
              "      cursor: pointer;\n",
              "      display: none;\n",
              "      fill: #1967D2;\n",
              "      height: 32px;\n",
              "      padding: 0 0 0 0;\n",
              "      width: 32px;\n",
              "    }\n",
              "\n",
              "    .colab-df-convert:hover {\n",
              "      background-color: #E2EBFA;\n",
              "      box-shadow: 0px 1px 2px rgba(60, 64, 67, 0.3), 0px 1px 3px 1px rgba(60, 64, 67, 0.15);\n",
              "      fill: #174EA6;\n",
              "    }\n",
              "\n",
              "    [theme=dark] .colab-df-convert {\n",
              "      background-color: #3B4455;\n",
              "      fill: #D2E3FC;\n",
              "    }\n",
              "\n",
              "    [theme=dark] .colab-df-convert:hover {\n",
              "      background-color: #434B5C;\n",
              "      box-shadow: 0px 1px 3px 1px rgba(0, 0, 0, 0.15);\n",
              "      filter: drop-shadow(0px 1px 2px rgba(0, 0, 0, 0.3));\n",
              "      fill: #FFFFFF;\n",
              "    }\n",
              "  </style>\n",
              "\n",
              "      <script>\n",
              "        const buttonEl =\n",
              "          document.querySelector('#df-41e6a7f5-7ffe-4958-979b-a1b71158cc4c button.colab-df-convert');\n",
              "        buttonEl.style.display =\n",
              "          google.colab.kernel.accessAllowed ? 'block' : 'none';\n",
              "\n",
              "        async function convertToInteractive(key) {\n",
              "          const element = document.querySelector('#df-41e6a7f5-7ffe-4958-979b-a1b71158cc4c');\n",
              "          const dataTable =\n",
              "            await google.colab.kernel.invokeFunction('convertToInteractive',\n",
              "                                                     [key], {});\n",
              "          if (!dataTable) return;\n",
              "\n",
              "          const docLinkHtml = 'Like what you see? Visit the ' +\n",
              "            '<a target=\"_blank\" href=https://colab.research.google.com/notebooks/data_table.ipynb>data table notebook</a>'\n",
              "            + ' to learn more about interactive tables.';\n",
              "          element.innerHTML = '';\n",
              "          dataTable['output_type'] = 'display_data';\n",
              "          await google.colab.output.renderOutput(dataTable, element);\n",
              "          const docLink = document.createElement('div');\n",
              "          docLink.innerHTML = docLinkHtml;\n",
              "          element.appendChild(docLink);\n",
              "        }\n",
              "      </script>\n",
              "    </div>\n",
              "  </div>\n",
              "  "
            ],
            "text/plain": [
              "   label-coarse  label-fine                                               text\n",
              "0             0           0  [[2, 3, 1, 4, 5, 6, 7, 8, 9, 0, 0, 0, 0, 0, 0,...\n",
              "1             1           1  [[10, 11, 12, 13, 14, 15, 1, 0, 0, 0, 0, 0, 0,...\n",
              "2             0           0  [[2, 16, 17, 18, 19, 20, 21, 22, 1, 23, 24, 0,...\n",
              "3             1           2  [[10, 1, 1, 13, 1, 25, 13, 26, 27, 21, 13, 28,...\n",
              "4             2           3  [[10, 29, 13, 30, 31, 21, 1, 0, 0, 0, 0, 0, 0,..."
            ]
          },
          "metadata": {},
          "execution_count": 20
        }
      ],
      "source": [
        "train_df.head()"
      ]
    },
    {
      "cell_type": "markdown",
      "metadata": {
        "id": "7gHvBlCZrmK7"
      },
      "source": [
        "### Load data into `Dataset` and then into `DataLoader`"
      ]
    },
    {
      "cell_type": "code",
      "execution_count": 21,
      "metadata": {
        "execution": {
          "iopub.execute_input": "2022-02-11T16:32:31.557788Z",
          "iopub.status.busy": "2022-02-11T16:32:31.557160Z",
          "iopub.status.idle": "2022-02-11T16:32:31.563554Z",
          "shell.execute_reply": "2022-02-11T16:32:31.562866Z",
          "shell.execute_reply.started": "2022-02-11T16:32:31.557749Z"
        },
        "id": "AldJ7s40rx66",
        "trusted": true
      },
      "outputs": [],
      "source": [
        "# Custom Dataset class\n",
        "\n",
        "class TRECDataset(Dataset):\n",
        "  def __init__(self, text, label):\n",
        "    self.x = text\n",
        "    self.y = label\n",
        "  \n",
        "  def __len__(self):\n",
        "    return len(self.y)\n",
        "\n",
        "  def __getitem__(self, idx):\n",
        "    return torch.from_numpy(self.x[idx][0].astype(np.int32)), self.y[idx]"
      ]
    },
    {
      "cell_type": "code",
      "execution_count": 22,
      "metadata": {
        "execution": {
          "iopub.execute_input": "2022-02-11T16:32:36.418857Z",
          "iopub.status.busy": "2022-02-11T16:32:36.418444Z",
          "iopub.status.idle": "2022-02-11T16:32:36.424245Z",
          "shell.execute_reply": "2022-02-11T16:32:36.423543Z",
          "shell.execute_reply.started": "2022-02-11T16:32:36.418811Z"
        },
        "id": "bML8T3ygsURl",
        "trusted": true
      },
      "outputs": [],
      "source": [
        "# Create Dataset from only text and coarse label columns\n",
        "\n",
        "train_ds = TRECDataset(train_df[\"text\"], train_df[\"label-coarse\"])\n",
        "test_ds = TRECDataset(test_df[\"text\"], test_df[\"label-coarse\"])"
      ]
    },
    {
      "cell_type": "code",
      "execution_count": 23,
      "metadata": {
        "execution": {
          "iopub.execute_input": "2022-02-11T16:32:36.699087Z",
          "iopub.status.busy": "2022-02-11T16:32:36.697333Z",
          "iopub.status.idle": "2022-02-11T16:32:36.703569Z",
          "shell.execute_reply": "2022-02-11T16:32:36.702809Z",
          "shell.execute_reply.started": "2022-02-11T16:32:36.699037Z"
        },
        "id": "1Fc5331As7lg",
        "trusted": true
      },
      "outputs": [],
      "source": [
        "# Create dataloaders\n",
        "\n",
        "train_dl = DataLoader(train_ds, batch_size=256, shuffle=True)\n",
        "test_dl = DataLoader(test_ds, batch_size=256, shuffle=True)"
      ]
    },
    {
      "cell_type": "markdown",
      "metadata": {
        "id": "0ISmna44tIST"
      },
      "source": [
        "### Shifting data to GPU"
      ]
    },
    {
      "cell_type": "code",
      "execution_count": 24,
      "metadata": {
        "execution": {
          "iopub.execute_input": "2022-02-11T16:32:37.178596Z",
          "iopub.status.busy": "2022-02-11T16:32:37.178008Z",
          "iopub.status.idle": "2022-02-11T16:32:37.188814Z",
          "shell.execute_reply": "2022-02-11T16:32:37.187867Z",
          "shell.execute_reply.started": "2022-02-11T16:32:37.178554Z"
        },
        "id": "uX1-OmE6tHWu",
        "trusted": true
      },
      "outputs": [],
      "source": [
        "# Functions to transfer data to GPU\n",
        "\n",
        "def get_default_device():\n",
        "    \"\"\"Pick GPU if available, else CPU\"\"\"\n",
        "    if torch.cuda.is_available():\n",
        "        return torch.device('cuda')\n",
        "    else:\n",
        "        return torch.device('cpu')\n",
        "    \n",
        "def to_device(data, device):\n",
        "    \"\"\"Move tensor(s) to chosen device\"\"\"\n",
        "    if isinstance(data, (list, tuple)):\n",
        "        return [to_device(x, device) for x in data]\n",
        "    return data.to(device, non_blocking=True)\n",
        "\n",
        "class DeviceDataLoader:\n",
        "  \"\"\"Wrap DataLoader to move batches of data to device\"\"\"\n",
        "  def __init__(self, dataloader, device):\n",
        "    self.dataloader = dataloader\n",
        "    self.device = device\n",
        "    \n",
        "  def __len__(self):\n",
        "    \"\"\"Return number of batches\"\"\"\n",
        "    return len(self.dataloader)\n",
        "    \n",
        "  def __iter__(self):\n",
        "    \"\"\"Yield a batch of data after moving it to device\"\"\"\n",
        "    for batch in self.dataloader:\n",
        "      yield to_device(batch, self.device)"
      ]
    },
    {
      "cell_type": "code",
      "execution_count": 25,
      "metadata": {
        "execution": {
          "iopub.execute_input": "2022-02-11T16:32:37.373569Z",
          "iopub.status.busy": "2022-02-11T16:32:37.373305Z",
          "iopub.status.idle": "2022-02-11T16:32:37.382511Z",
          "shell.execute_reply": "2022-02-11T16:32:37.381625Z",
          "shell.execute_reply.started": "2022-02-11T16:32:37.373538Z"
        },
        "id": "9q_NpwIMuIWy",
        "trusted": true,
        "colab": {
          "base_uri": "https://localhost:8080/"
        },
        "outputId": "caa05b01-be06-4385-8605-723cdb560896"
      },
      "outputs": [
        {
          "output_type": "execute_result",
          "data": {
            "text/plain": [
              "device(type='cuda')"
            ]
          },
          "metadata": {},
          "execution_count": 25
        }
      ],
      "source": [
        "device = get_default_device()\n",
        "device"
      ]
    },
    {
      "cell_type": "code",
      "execution_count": 26,
      "metadata": {
        "execution": {
          "iopub.execute_input": "2022-02-11T16:32:37.570110Z",
          "iopub.status.busy": "2022-02-11T16:32:37.569435Z",
          "iopub.status.idle": "2022-02-11T16:32:37.575651Z",
          "shell.execute_reply": "2022-02-11T16:32:37.574834Z",
          "shell.execute_reply.started": "2022-02-11T16:32:37.570068Z"
        },
        "id": "fj4dTIjpuMRJ",
        "trusted": true
      },
      "outputs": [],
      "source": [
        "# Move dataloaders to cuda device\n",
        "\n",
        "train_dl = DeviceDataLoader(train_dl, device)\n",
        "test_dl = DeviceDataLoader(test_dl, device)"
      ]
    },
    {
      "cell_type": "code",
      "execution_count": 27,
      "metadata": {
        "execution": {
          "iopub.execute_input": "2022-02-11T16:32:38.202030Z",
          "iopub.status.busy": "2022-02-11T16:32:38.201481Z",
          "iopub.status.idle": "2022-02-11T16:32:45.540416Z",
          "shell.execute_reply": "2022-02-11T16:32:45.539668Z",
          "shell.execute_reply.started": "2022-02-11T16:32:38.201991Z"
        },
        "id": "4yKO7joWRGXp",
        "trusted": true,
        "colab": {
          "base_uri": "https://localhost:8080/"
        },
        "outputId": "84814721-4adc-478a-bf69-c8df4cb6a784"
      },
      "outputs": [
        {
          "output_type": "stream",
          "name": "stdout",
          "text": [
            "torch.Size([256, 80]) torch.Size([256])\n"
          ]
        }
      ],
      "source": [
        "# Check final data shape\n",
        "\n",
        "for batch in train_dl:\n",
        "    x, y = batch\n",
        "    print(x.shape, y.shape)\n",
        "    break"
      ]
    },
    {
      "cell_type": "code",
      "execution_count": 28,
      "metadata": {
        "execution": {
          "iopub.execute_input": "2022-02-11T16:32:45.542330Z",
          "iopub.status.busy": "2022-02-11T16:32:45.542075Z",
          "iopub.status.idle": "2022-02-11T16:32:45.549133Z",
          "shell.execute_reply": "2022-02-11T16:32:45.548287Z",
          "shell.execute_reply.started": "2022-02-11T16:32:45.542294Z"
        },
        "id": "DcJj34ndwHZ-",
        "trusted": true,
        "colab": {
          "base_uri": "https://localhost:8080/"
        },
        "outputId": "0efee56b-452a-41c3-ea77-60c64331ad49"
      },
      "outputs": [
        {
          "output_type": "execute_result",
          "data": {
            "text/plain": [
              "3354"
            ]
          },
          "metadata": {},
          "execution_count": 28
        }
      ],
      "source": [
        "vocab_size = len(words)\n",
        "vocab_size"
      ]
    },
    {
      "cell_type": "markdown",
      "metadata": {
        "id": "kUb6jxWSwQBp"
      },
      "source": [
        "## Building the model"
      ]
    },
    {
      "cell_type": "code",
      "execution_count": 29,
      "metadata": {
        "execution": {
          "iopub.execute_input": "2022-02-11T16:34:26.220994Z",
          "iopub.status.busy": "2022-02-11T16:34:26.220700Z",
          "iopub.status.idle": "2022-02-11T16:34:26.231703Z",
          "shell.execute_reply": "2022-02-11T16:34:26.230752Z",
          "shell.execute_reply.started": "2022-02-11T16:34:26.220958Z"
        },
        "id": "u4eagVNuwRcP",
        "trusted": true
      },
      "outputs": [],
      "source": [
        "class LSTMModel(nn.Module) :\n",
        "    def __init__(self) :\n",
        "        super().__init__()\n",
        "        self.embeddings = nn.Embedding(vocab_size, 512, padding_idx=0)\n",
        "        self.lstm = nn.LSTM(512, 512, batch_first=True, num_layers=2, bidirectional=True)\n",
        "        self.linear1 = nn.Linear(512, 1024)\n",
        "        self.linear2 = nn.Linear(1024, 256)\n",
        "        self.linear3 = nn.Linear(256, 128)\n",
        "        self.linear4 = nn.Linear(128, 64)\n",
        "        self.linear5 = nn.Linear(64, 6)\n",
        "        self.dropout = nn.Dropout(0.3)\n",
        "        self.out = nn.LogSoftmax(dim=-1)\n",
        "        \n",
        "    def forward(self, x):\n",
        "        # print(x.shape, \" at start\")\n",
        "        x = self.embeddings(x)\n",
        "        # print(x.shape, \" after embeddings\")\n",
        "        _, (x, _) = self.lstm(x)\n",
        "        # print(x.shape, \" after lstm\")\n",
        "\n",
        "        # x = x.reshape(256, -1)\n",
        "        # print(x.shape, \" after reshape\")\n",
        "        \n",
        "        x = F.relu(self.linear1(x[-1]))\n",
        "        # print(x.shape, \" after linear1\")\n",
        "        x = self.dropout(x)\n",
        "        \n",
        "        x = F.relu(self.linear2(x))\n",
        "        # print(x.shape, \" after linear2\")\n",
        "        x = self.dropout(x)\n",
        "        \n",
        "        x = F.relu(self.linear3(x))\n",
        "        # print(x.shape, \" after linear3\")\n",
        "        x = self.dropout(x)\n",
        "        \n",
        "        x = F.relu(self.linear4(x))\n",
        "        # print(x.shape, \" after linear4\")\n",
        "        x = self.dropout(x)\n",
        "        \n",
        "        x = F.relu(self.linear5(x))\n",
        "        # print(x.shape, \" after linear5\")\n",
        "        output = self.out(x)\n",
        "\n",
        "        # print(x.shape, \" after logsoft\")\n",
        "        \n",
        "        return output"
      ]
    },
    {
      "cell_type": "code",
      "execution_count": 30,
      "metadata": {
        "execution": {
          "iopub.execute_input": "2022-02-11T16:34:26.634371Z",
          "iopub.status.busy": "2022-02-11T16:34:26.633830Z",
          "iopub.status.idle": "2022-02-11T16:34:26.754604Z",
          "shell.execute_reply": "2022-02-11T16:34:26.753865Z",
          "shell.execute_reply.started": "2022-02-11T16:34:26.634334Z"
        },
        "id": "3BZSgkkiyyYG",
        "trusted": true
      },
      "outputs": [],
      "source": [
        "baseline_model = LSTMModel()\n",
        "baseline_model = to_device(baseline_model, device)"
      ]
    },
    {
      "cell_type": "code",
      "execution_count": 31,
      "metadata": {
        "execution": {
          "iopub.execute_input": "2022-02-11T16:34:27.313969Z",
          "iopub.status.busy": "2022-02-11T16:34:27.313695Z",
          "iopub.status.idle": "2022-02-11T16:34:27.318682Z",
          "shell.execute_reply": "2022-02-11T16:34:27.317958Z",
          "shell.execute_reply.started": "2022-02-11T16:34:27.313937Z"
        },
        "id": "TvmVewiKzQnP",
        "trusted": true
      },
      "outputs": [],
      "source": [
        "criterion = nn.NLLLoss().to(device)\n",
        "learnable_parameters = filter(lambda p: p.requires_grad, baseline_model.parameters())\n",
        "optimizer = torch.optim.Adam(learnable_parameters, lr=0.0015)"
      ]
    },
    {
      "cell_type": "markdown",
      "metadata": {
        "id": "U-yi_uatI_gR"
      },
      "source": [
        "### Intialize helper functions"
      ]
    },
    {
      "cell_type": "code",
      "execution_count": 32,
      "metadata": {
        "execution": {
          "iopub.execute_input": "2022-02-11T16:32:54.831071Z",
          "iopub.status.busy": "2022-02-11T16:32:54.830234Z",
          "iopub.status.idle": "2022-02-11T16:32:54.836851Z",
          "shell.execute_reply": "2022-02-11T16:32:54.835700Z",
          "shell.execute_reply.started": "2022-02-11T16:32:54.831020Z"
        },
        "id": "UeQJDWoAzfZC",
        "trusted": true
      },
      "outputs": [],
      "source": [
        "def cat_accuracy(pred, y):\n",
        "  max_pred = pred.argmax(dim=1, keepdim=True)\n",
        "  correct = max_pred.squeeze(1).eq(y)\n",
        "  correct = correct.to(\"cpu\")\n",
        "  y = y.to(\"cpu\")\n",
        "  return correct.sum() / torch.FloatTensor([y.shape[0]])"
      ]
    },
    {
      "cell_type": "code",
      "execution_count": 33,
      "metadata": {
        "execution": {
          "iopub.execute_input": "2022-02-11T16:32:55.230969Z",
          "iopub.status.busy": "2022-02-11T16:32:55.230661Z",
          "iopub.status.idle": "2022-02-11T16:32:55.243831Z",
          "shell.execute_reply": "2022-02-11T16:32:55.241951Z",
          "shell.execute_reply.started": "2022-02-11T16:32:55.230908Z"
        },
        "id": "xnIHwoL4z1kA",
        "trusted": true
      },
      "outputs": [],
      "source": [
        "def evaluate(model, iterator, criterion):\n",
        "  epoch_loss = 0\n",
        "  epoch_acc = 0\n",
        "  model.eval()\n",
        "\n",
        "  with torch.no_grad():\n",
        "    for batch in iterator:\n",
        "      x, y = batch\n",
        "      pred = model(x)\n",
        "      loss = criterion(pred, y)\n",
        "      acc = cat_accuracy(pred, y)\n",
        "\n",
        "      epoch_loss += loss.item()\n",
        "      epoch_acc += acc.item()\n",
        "    \n",
        "  return epoch_loss / len(iterator), epoch_acc / len(iterator)"
      ]
    },
    {
      "cell_type": "code",
      "execution_count": 34,
      "metadata": {
        "execution": {
          "iopub.execute_input": "2022-02-11T16:34:31.187870Z",
          "iopub.status.busy": "2022-02-11T16:34:31.187432Z",
          "iopub.status.idle": "2022-02-11T16:34:31.194517Z",
          "shell.execute_reply": "2022-02-11T16:34:31.193803Z",
          "shell.execute_reply.started": "2022-02-11T16:34:31.187835Z"
        },
        "id": "oRe0G6J_0ibT",
        "trusted": true
      },
      "outputs": [],
      "source": [
        "def train(model, iterator, optimizer, criterion):\n",
        "  epoch_loss = 0\n",
        "  epoch_acc = 0\n",
        "\n",
        "  model.train()\n",
        "\n",
        "  for batch in iterator:\n",
        "    x, y = batch\n",
        "\n",
        "    # print(x.shape)\n",
        "    # print(y.shape)\n",
        "\n",
        "    optimizer.zero_grad()\n",
        "    \n",
        "    pred = model(x)\n",
        "    loss = criterion(pred, y)\n",
        "    acc = cat_accuracy(pred, y)\n",
        "\n",
        "    loss.backward()\n",
        "    optimizer.step()\n",
        "\n",
        "    epoch_loss += loss.item()\n",
        "    epoch_acc += acc.item()\n",
        "\n",
        "  return epoch_loss / len(iterator), epoch_acc / len(iterator)"
      ]
    },
    {
      "cell_type": "code",
      "execution_count": 35,
      "metadata": {
        "execution": {
          "iopub.execute_input": "2022-02-11T16:32:59.401609Z",
          "iopub.status.busy": "2022-02-11T16:32:59.401350Z",
          "iopub.status.idle": "2022-02-11T16:32:59.406207Z",
          "shell.execute_reply": "2022-02-11T16:32:59.405194Z",
          "shell.execute_reply.started": "2022-02-11T16:32:59.401577Z"
        },
        "id": "8x7DIOCc1Kgl",
        "trusted": true
      },
      "outputs": [],
      "source": [
        "def epoch_time(start, end):\n",
        "  elapsed_time = end - start\n",
        "  elapsed_mins = int(elapsed_time / 60)\n",
        "  elapsed_secs = int(elapsed_time  - (elapsed_mins * 60))\n",
        "\n",
        "  return elapsed_mins, elapsed_secs"
      ]
    },
    {
      "cell_type": "markdown",
      "metadata": {
        "id": "xNJ7T7Vr1ZxQ"
      },
      "source": [
        "## Training the model"
      ]
    },
    {
      "cell_type": "code",
      "execution_count": 38,
      "metadata": {
        "execution": {
          "iopub.execute_input": "2022-02-11T16:34:42.117938Z",
          "iopub.status.busy": "2022-02-11T16:34:42.117654Z",
          "iopub.status.idle": "2022-02-11T16:36:43.593449Z",
          "shell.execute_reply": "2022-02-11T16:36:43.592586Z",
          "shell.execute_reply.started": "2022-02-11T16:34:42.117898Z"
        },
        "id": "kAO3JqWt1Yup",
        "trusted": true,
        "colab": {
          "base_uri": "https://localhost:8080/"
        },
        "outputId": "0247bd62-e3da-4e9a-a7c1-a1979b1b8536"
      },
      "outputs": [
        {
          "output_type": "stream",
          "name": "stdout",
          "text": [
            "Found best model yet! at epoch  1\n",
            "Epoch:  1 | Epoch Time: 0m 13s\n",
            "\tTrain Loss:  0.089 | Train Acc:  97.22%\n",
            "\t Test. Loss:  0.537 |  Test. Acc:  88.37%\n",
            "Found best model yet! at epoch  2\n",
            "Epoch:  2 | Epoch Time: 0m 13s\n",
            "\tTrain Loss:  0.065 | Train Acc:  97.71%\n",
            "\t Test. Loss:  0.528 |  Test. Acc:  88.59%\n",
            "Found best model yet! at epoch  3\n",
            "Epoch:  3 | Epoch Time: 0m 13s\n",
            "\tTrain Loss:  0.058 | Train Acc:  97.85%\n",
            "\t Test. Loss:  0.513 |  Test. Acc:  88.93%\n",
            "Epoch:  4 | Epoch Time: 0m 13s\n",
            "\tTrain Loss:  0.061 | Train Acc:  97.92%\n",
            "\t Test. Loss:  0.580 |  Test. Acc:  88.98%\n",
            "Epoch:  5 | Epoch Time: 0m 13s\n",
            "\tTrain Loss:  0.058 | Train Acc:  97.80%\n",
            "\t Test. Loss:  0.622 |  Test. Acc:  87.23%\n",
            "Epoch:  6 | Epoch Time: 0m 13s\n",
            "\tTrain Loss:  0.076 | Train Acc:  97.67%\n",
            "\t Test. Loss:  0.572 |  Test. Acc:  86.63%\n",
            "Epoch:  7 | Epoch Time: 0m 13s\n",
            "\tTrain Loss:  0.079 | Train Acc:  97.42%\n",
            "\t Test. Loss:  0.583 |  Test. Acc:  87.62%\n",
            "Epoch:  8 | Epoch Time: 0m 13s\n",
            "\tTrain Loss:  0.060 | Train Acc:  97.85%\n",
            "\t Test. Loss:  0.670 |  Test. Acc:  87.82%\n",
            "Epoch:  9 | Epoch Time: 0m 13s\n",
            "\tTrain Loss:  0.052 | Train Acc:  97.83%\n",
            "\t Test. Loss:  0.680 |  Test. Acc:  87.60%\n",
            "Epoch:  10 | Epoch Time: 0m 13s\n",
            "\tTrain Loss:  0.060 | Train Acc:  98.18%\n",
            "\t Test. Loss:  0.693 |  Test. Acc:  88.60%\n",
            "Epoch:  11 | Epoch Time: 0m 13s\n",
            "\tTrain Loss:  0.060 | Train Acc:  98.85%\n",
            "\t Test. Loss:  0.649 |  Test. Acc:  90.33%\n",
            "Epoch:  12 | Epoch Time: 0m 13s\n",
            "\tTrain Loss:  0.040 | Train Acc:  99.15%\n",
            "\t Test. Loss:  0.636 |  Test. Acc:  89.07%\n",
            "Epoch:  13 | Epoch Time: 0m 13s\n",
            "\tTrain Loss:  0.034 | Train Acc:  99.16%\n",
            "\t Test. Loss:  0.603 |  Test. Acc:  90.39%\n",
            "Epoch:  14 | Epoch Time: 0m 13s\n",
            "\tTrain Loss:  0.039 | Train Acc:  99.26%\n",
            "\t Test. Loss:  0.544 |  Test. Acc:  90.41%\n",
            "Epoch:  15 | Epoch Time: 0m 13s\n",
            "\tTrain Loss:  0.027 | Train Acc:  99.40%\n",
            "\t Test. Loss:  0.646 |  Test. Acc:  90.20%\n"
          ]
        }
      ],
      "source": [
        "n_epochs = 15\n",
        "\n",
        "train_losses = []\n",
        "test_losses = []\n",
        "train_accs = []\n",
        "test_accs = []\n",
        "\n",
        "best_loss = float(\"inf\")\n",
        "\n",
        "for epoch in range(n_epochs):\n",
        "  start_time = time.time()\n",
        "\n",
        "  train_loss, train_acc = train(baseline_model, train_dl, optimizer, criterion)\n",
        "  test_loss, test_acc = evaluate(baseline_model, test_dl, criterion)\n",
        "  \n",
        "  train_losses.append(train_loss)\n",
        "  test_losses.append(test_loss)\n",
        "  train_accs.append(train_acc)\n",
        "  test_accs.append(test_acc)\n",
        "\n",
        "  end_time = time.time()\n",
        "\n",
        "  epoch_mins, epoch_secs = epoch_time(start_time, end_time)\n",
        "\n",
        "  if test_loss < best_loss:\n",
        "    best_loss = test_loss\n",
        "    torch.save(baseline_model.state_dict(), 'baseline-bilstm-model.pt')\n",
        "    print(f\"Found best model yet! at epoch {epoch + 1: 02}\")\n",
        "  \n",
        "  print(f'Epoch: {epoch + 1: 02} | Epoch Time: {epoch_mins}m {epoch_secs}s')\n",
        "  print(f'\\tTrain Loss: {train_loss: .3f} | Train Acc: {train_acc * 100: .2f}%')\n",
        "  print(f'\\t Test. Loss: {test_loss: .3f} |  Test. Acc: {test_acc * 100: .2f}%')"
      ]
    },
    {
      "cell_type": "code",
      "execution_count": 39,
      "metadata": {
        "execution": {
          "iopub.execute_input": "2022-02-11T16:36:43.595420Z",
          "iopub.status.busy": "2022-02-11T16:36:43.595165Z",
          "iopub.status.idle": "2022-02-11T16:36:43.770503Z",
          "shell.execute_reply": "2022-02-11T16:36:43.769780Z",
          "shell.execute_reply.started": "2022-02-11T16:36:43.595385Z"
        },
        "id": "gJjTaU4ChgZd",
        "trusted": true,
        "colab": {
          "base_uri": "https://localhost:8080/"
        },
        "outputId": "23f1faa9-8d37-4dbc-b447-830c65c62430"
      },
      "outputs": [
        {
          "output_type": "stream",
          "name": "stdout",
          "text": [
            "Test Loss:  0.513 |  Test Acc:  88.98%\n"
          ]
        }
      ],
      "source": [
        "baseline_model.load_state_dict(torch.load('baseline-bilstm-model.pt'))\n",
        "\n",
        "test_loss, test_acc = evaluate(baseline_model, test_dl, criterion)\n",
        "\n",
        "print(f'Test Loss: {test_loss: .3f} |  Test Acc: {test_acc * 100: .2f}%')"
      ]
    },
    {
      "cell_type": "code",
      "execution_count": 40,
      "metadata": {
        "execution": {
          "iopub.execute_input": "2022-02-11T16:36:43.772201Z",
          "iopub.status.busy": "2022-02-11T16:36:43.771872Z",
          "iopub.status.idle": "2022-02-11T16:36:44.174372Z",
          "shell.execute_reply": "2022-02-11T16:36:44.173713Z",
          "shell.execute_reply.started": "2022-02-11T16:36:43.772165Z"
        },
        "id": "94t6imZZgacB",
        "trusted": true,
        "colab": {
          "base_uri": "https://localhost:8080/",
          "height": 517
        },
        "outputId": "154baea6-96fc-41e0-a61b-afb5c7e390c3"
      },
      "outputs": [
        {
          "output_type": "display_data",
          "data": {
            "image/png": "[encoded data removed]",
            "text/plain": [
              "<Figure size 432x288 with 1 Axes>"
            ]
          },
          "metadata": {
            "needs_background": "light"
          }
        },
        {
          "output_type": "display_data",
          "data": {
            "image/png": "[encoded data removed]",
            "text/plain": [
              "<Figure size 432x288 with 1 Axes>"
            ]
          },
          "metadata": {
            "needs_background": "light"
          }
        }
      ],
      "source": [
        "plt.plot(train_losses, label = \"Training loss\")\n",
        "plt.plot(test_losses, label = \"Testing loss\")\n",
        "plt.legend()\n",
        "plt.show()\n",
        "\n",
        "plt.plot(train_accs, label = \"Training accuracy\")\n",
        "plt.plot(test_accs, label = \"Testing accuracy\")\n",
        "plt.legend()\n",
        "plt.show()"
      ]
    },
    {
      "cell_type": "markdown",
      "metadata": {
        "id": "-xG8O34Wnz7E"
      },
      "source": [
        "## Defining MixUp strategy"
      ]
    },
    {
      "cell_type": "code",
      "execution_count": 41,
      "metadata": {
        "execution": {
          "iopub.execute_input": "2022-02-11T16:33:07.623271Z",
          "iopub.status.busy": "2022-02-11T16:33:07.622939Z",
          "iopub.status.idle": "2022-02-11T16:33:07.636372Z",
          "shell.execute_reply": "2022-02-11T16:33:07.635221Z",
          "shell.execute_reply.started": "2022-02-11T16:33:07.623232Z"
        },
        "id": "U03ee6Hsl0XC",
        "trusted": true
      },
      "outputs": [],
      "source": [
        "# Implement Mixup (https://arxiv.org/pdf/2004.12239.pdf)\n",
        "def mixup_data(x, y, alpha=0.2, use_cuda=True):\n",
        "  \"\"\"Return mixup values for the whole batch\"\"\"\n",
        "  batch_size = x.shape[0]\n",
        "\n",
        "  lam_vector = np.random.beta(alpha, alpha)\n",
        "  \n",
        "  if use_cuda:\n",
        "    index = torch.randperm(batch_size).cuda()\n",
        "  else:\n",
        "    index = torch.randperm(batch_size)\n",
        "\n",
        "  mixed_x = (x.T * lam_vector).T + (x.iloc[index, :].T * (1.0 - lam_vector)).T\n",
        "  mixed_y = (y.T * lam_vector).T + (y.iloc[index, :].T * (1.0 - lam_vector)).T\n",
        "\n",
        "  return mixed_x, mixed_y"
      ]
    },
    {
      "cell_type": "code",
      "execution_count": 42,
      "metadata": {
        "execution": {
          "iopub.execute_input": "2022-02-11T16:33:07.932511Z",
          "iopub.status.busy": "2022-02-11T16:33:07.930697Z",
          "iopub.status.idle": "2022-02-11T16:33:07.953083Z",
          "shell.execute_reply": "2022-02-11T16:33:07.952286Z",
          "shell.execute_reply.started": "2022-02-11T16:33:07.932456Z"
        },
        "id": "gqCqDmaGeaUa",
        "trusted": true
      },
      "outputs": [],
      "source": [
        "class MixupModel(nn.Module) :\n",
        "  def __init__(self) :\n",
        "    super().__init__()\n",
        "    self.embeddings = nn.Embedding(vocab_size, 512, padding_idx=0)\n",
        "    self.lstm = nn.LSTM(512, 512, batch_first=True, num_layers=2, bidirectional=True)\n",
        "\n",
        "    self.linear_layers = nn.ModuleList(\n",
        "        [\n",
        "         nn.Linear(512, 1024),\n",
        "         nn.Linear(1024, 256),\n",
        "         nn.Linear(256, 128),\n",
        "         nn.Linear(128, 64),\n",
        "         nn.Linear(64, 6)\n",
        "        ]\n",
        "    )\n",
        "    self.dropout = nn.Dropout(0.3)\n",
        "    self.out = nn.LogSoftmax(dim=-1)\n",
        "    \n",
        "  def forward(self, x_one, x_two=None, mixup_layer=-1, mixup_lambda=0.2):\n",
        "    x_one = self.embeddings(x_one)\n",
        "    _, (x_one, _) = self.lstm(x_one)\n",
        "    x_one = x_one[-1]\n",
        "\n",
        "    if x_two is not None:\n",
        "      x_two = self.embeddings(x_two)\n",
        "      _, (x_two, _) = self.lstm(x_two)\n",
        "      x_two = x_two[-1]\n",
        "\n",
        "    for i, layer in enumerate(self.linear_layers):\n",
        "      x_one = self.dropout(F.relu(layer(x_one)))\n",
        "\n",
        "      if mixup_layer != -1:\n",
        "        if i <= mixup_layer:\n",
        "          x_two = self.dropout(F.relu(layer(x_two)))\n",
        "\n",
        "        if i == mixup_layer:\n",
        "          hidden_mixup = mixup_lambda * x_one + (1.0 - mixup_lambda) * x_two\n",
        "          x_one = hidden_mixup\n",
        "\n",
        "    output = self.out(x_one)\n",
        "    return output\n"
      ]
    },
    {
      "cell_type": "code",
      "execution_count": 43,
      "metadata": {
        "execution": {
          "iopub.execute_input": "2022-02-11T16:38:14.536263Z",
          "iopub.status.busy": "2022-02-11T16:38:14.535706Z",
          "iopub.status.idle": "2022-02-11T16:38:14.644757Z",
          "shell.execute_reply": "2022-02-11T16:38:14.644048Z",
          "shell.execute_reply.started": "2022-02-11T16:38:14.536222Z"
        },
        "id": "QCoisL6t2WXh",
        "trusted": true
      },
      "outputs": [],
      "source": [
        "mixup_model = MixupModel()\n",
        "mixup_model = to_device(mixup_model, device)\n",
        "\n",
        "criterion = nn.NLLLoss().to(device)\n",
        "learnable_parameters = filter(lambda p: p.requires_grad, mixup_model.parameters())\n",
        "optimizer = torch.optim.Adam(learnable_parameters, lr=0.0015)"
      ]
    },
    {
      "cell_type": "code",
      "execution_count": 44,
      "metadata": {
        "execution": {
          "iopub.execute_input": "2022-02-11T16:38:16.241011Z",
          "iopub.status.busy": "2022-02-11T16:38:16.240641Z",
          "iopub.status.idle": "2022-02-11T16:38:16.248104Z",
          "shell.execute_reply": "2022-02-11T16:38:16.247325Z",
          "shell.execute_reply.started": "2022-02-11T16:38:16.240971Z"
        },
        "id": "UIvt-JdZebNW",
        "trusted": true
      },
      "outputs": [],
      "source": [
        "def split_batch(x, y):\n",
        "  half_size = x.shape[0] // 2\n",
        "  \n",
        "  x_left, x_right = torch.split(x, half_size)\n",
        "  y_left, y_right = torch.split(y, half_size)\n",
        "\n",
        "  return x_left, y_left, x_right, y_right"
      ]
    },
    {
      "cell_type": "code",
      "execution_count": 45,
      "metadata": {
        "execution": {
          "iopub.execute_input": "2022-02-11T16:38:16.588431Z",
          "iopub.status.busy": "2022-02-11T16:38:16.587859Z",
          "iopub.status.idle": "2022-02-11T16:38:16.596824Z",
          "shell.execute_reply": "2022-02-11T16:38:16.595828Z",
          "shell.execute_reply.started": "2022-02-11T16:38:16.588384Z"
        },
        "id": "j-eHFR9W2ni6",
        "trusted": true
      },
      "outputs": [],
      "source": [
        "def train_mixup(model, iterator, optimizer, criterion):\n",
        "  epoch_loss = 0\n",
        "  # epoch_acc = 0\n",
        "\n",
        "  model.train()\n",
        "\n",
        "  for batch in iterator:\n",
        "    x, y = batch\n",
        "\n",
        "    mix_layer = random.choice([1, 2, 3])\n",
        "    mix_layer = mix_layer - 1\n",
        "\n",
        "    mix_lambda = np.random.beta(0.2, 0.2)\n",
        "    mix_lambda = max(mix_lambda, 1 - mix_lambda)\n",
        "\n",
        "    # print(x.shape, y.shape, \" originally\")\n",
        "    x_l, y_l, x_r, y_r = split_batch(x, y)\n",
        "    # print(y_l.shape, \" left shape\")\n",
        "    # print(y_r.shape, \" right shape\")\n",
        "\n",
        "    # y_mixed = mix_lambda * y_l + (1.0 - mix_lambda) * x_r\n",
        "\n",
        "    # print(x.shape)\n",
        "    # print(y.shape)\n",
        "\n",
        "    optimizer.zero_grad()\n",
        "    \n",
        "    preds = model(x_one=x_l, x_two=x_r, mixup_layer=mix_layer, mixup_lambda=mix_lambda)\n",
        "    y_l.squeeze_()\n",
        "    y_r.squeeze_()\n",
        "    loss = criterion(preds, y_l) * mix_lambda + criterion(preds, y_r) * (1.0 - mix_lambda)\n",
        "    # acc = cat_accuracy(preds, y)\n",
        "\n",
        "    loss.backward()\n",
        "    optimizer.step()\n",
        "\n",
        "    epoch_loss += loss.item()\n",
        "    # epoch_acc += acc.item()\n",
        "\n",
        "  return epoch_loss / len(iterator)"
      ]
    },
    {
      "cell_type": "code",
      "execution_count": 46,
      "metadata": {
        "execution": {
          "iopub.execute_input": "2022-02-11T16:38:17.348564Z",
          "iopub.status.busy": "2022-02-11T16:38:17.347990Z",
          "iopub.status.idle": "2022-02-11T16:40:28.736484Z",
          "shell.execute_reply": "2022-02-11T16:40:28.735573Z",
          "shell.execute_reply.started": "2022-02-11T16:38:17.348523Z"
        },
        "id": "BBhR1fsIgccB",
        "trusted": true,
        "colab": {
          "base_uri": "https://localhost:8080/"
        },
        "outputId": "3ad44bcc-1050-4d31-a409-7bdc8bec7de9"
      },
      "outputs": [
        {
          "output_type": "stream",
          "name": "stdout",
          "text": [
            "Found best model yet! at epoch  1\n",
            "Epoch:  1 | Epoch Time: 0m 14s\n",
            "\tTrain Loss:  1.728\n",
            "\t Test. Loss:  1.621 |  Test. Acc:  29.06%\n",
            "Found best model yet! at epoch  2\n",
            "Epoch:  2 | Epoch Time: 0m 14s\n",
            "\tTrain Loss:  1.630\n",
            "\t Test. Loss:  1.580 |  Test. Acc:  43.13%\n",
            "Found best model yet! at epoch  3\n",
            "Epoch:  3 | Epoch Time: 0m 14s\n",
            "\tTrain Loss:  1.616\n",
            "\t Test. Loss:  1.541 |  Test. Acc:  47.38%\n",
            "Found best model yet! at epoch  4\n",
            "Epoch:  4 | Epoch Time: 0m 14s\n",
            "\tTrain Loss:  1.553\n",
            "\t Test. Loss:  1.504 |  Test. Acc:  48.58%\n",
            "Found best model yet! at epoch  5\n",
            "Epoch:  5 | Epoch Time: 0m 14s\n",
            "\tTrain Loss:  1.482\n",
            "\t Test. Loss:  1.250 |  Test. Acc:  50.36%\n",
            "Found best model yet! at epoch  6\n",
            "Epoch:  6 | Epoch Time: 0m 14s\n",
            "\tTrain Loss:  1.398\n",
            "\t Test. Loss:  1.148 |  Test. Acc:  50.00%\n",
            "Found best model yet! at epoch  7\n",
            "Epoch:  7 | Epoch Time: 0m 14s\n",
            "\tTrain Loss:  1.378\n",
            "\t Test. Loss:  1.114 |  Test. Acc:  67.19%\n",
            "Found best model yet! at epoch  8\n",
            "Epoch:  8 | Epoch Time: 0m 14s\n",
            "\tTrain Loss:  1.226\n",
            "\t Test. Loss:  0.793 |  Test. Acc:  72.42%\n",
            "Epoch:  9 | Epoch Time: 0m 14s\n",
            "\tTrain Loss:  1.143\n",
            "\t Test. Loss:  0.917 |  Test. Acc:  69.83%\n",
            "Epoch:  10 | Epoch Time: 0m 14s\n",
            "\tTrain Loss:  1.186\n",
            "\t Test. Loss:  0.867 |  Test. Acc:  71.80%\n",
            "Epoch:  11 | Epoch Time: 0m 14s\n",
            "\tTrain Loss:  1.147\n",
            "\t Test. Loss:  0.854 |  Test. Acc:  72.84%\n",
            "Found best model yet! at epoch  12\n",
            "Epoch:  12 | Epoch Time: 0m 14s\n",
            "\tTrain Loss:  1.050\n",
            "\t Test. Loss:  0.771 |  Test. Acc:  72.97%\n",
            "Epoch:  13 | Epoch Time: 0m 14s\n",
            "\tTrain Loss:  1.098\n",
            "\t Test. Loss:  0.803 |  Test. Acc:  70.98%\n",
            "Epoch:  14 | Epoch Time: 0m 14s\n",
            "\tTrain Loss:  1.024\n",
            "\t Test. Loss:  0.780 |  Test. Acc:  70.55%\n",
            "Found best model yet! at epoch  15\n",
            "Epoch:  15 | Epoch Time: 0m 14s\n",
            "\tTrain Loss:  1.002\n",
            "\t Test. Loss:  0.614 |  Test. Acc:  84.81%\n"
          ]
        }
      ],
      "source": [
        "n_epochs = 15\n",
        "\n",
        "train_losses = []\n",
        "test_losses = []\n",
        "# train_accs = []\n",
        "test_accs = []\n",
        "\n",
        "best_loss = float(\"inf\")\n",
        "\n",
        "for epoch in range(n_epochs):\n",
        "  start_time = time.time()\n",
        "\n",
        "  train_loss = train_mixup(mixup_model, train_dl, optimizer, criterion)\n",
        "  test_loss, test_acc = evaluate(mixup_model, test_dl, criterion)\n",
        "  \n",
        "  train_losses.append(train_loss)\n",
        "  test_losses.append(test_loss)\n",
        "  # train_accs.append(train_acc)\n",
        "  test_accs.append(test_acc)\n",
        "\n",
        "  end_time = time.time()\n",
        "\n",
        "  epoch_mins, epoch_secs = epoch_time(start_time, end_time)\n",
        "\n",
        "  if test_loss < best_loss:\n",
        "    best_loss = test_loss\n",
        "    torch.save(mixup_model.state_dict(), 'mixup-bilstm-model.pt')\n",
        "    print(f\"Found best model yet! at epoch {epoch + 1: 02}\")\n",
        "  \n",
        "  print(f'Epoch: {epoch + 1: 02} | Epoch Time: {epoch_mins}m {epoch_secs}s')\n",
        "  print(f'\\tTrain Loss: {train_loss: .3f}')\n",
        "  print(f'\\t Test. Loss: {test_loss: .3f} |  Test. Acc: {test_acc * 100: .2f}%')"
      ]
    },
    {
      "cell_type": "code",
      "execution_count": 50,
      "metadata": {
        "execution": {
          "iopub.execute_input": "2022-02-11T16:40:42.176810Z",
          "iopub.status.busy": "2022-02-11T16:40:42.175998Z",
          "iopub.status.idle": "2022-02-11T16:40:42.362192Z",
          "shell.execute_reply": "2022-02-11T16:40:42.361307Z",
          "shell.execute_reply.started": "2022-02-11T16:40:42.176762Z"
        },
        "trusted": true,
        "id": "EbJxM63mWL0g",
        "colab": {
          "base_uri": "https://localhost:8080/"
        },
        "outputId": "6334d182-2f81-4c67-f257-43e5fda8bee8"
      },
      "outputs": [
        {
          "output_type": "stream",
          "name": "stdout",
          "text": [
            "Test Loss:  0.615 |  Test Acc:  84.78%\n"
          ]
        }
      ],
      "source": [
        "mixup_model.load_state_dict(torch.load('mixup-bilstm-model.pt'))\n",
        "\n",
        "test_loss, test_acc = evaluate(mixup_model, test_dl, criterion)\n",
        "\n",
        "print(f'Test Loss: {test_loss: .3f} |  Test Acc: {test_acc * 100: .2f}%')"
      ]
    },
    {
      "cell_type": "code",
      "execution_count": 48,
      "metadata": {
        "execution": {
          "iopub.execute_input": "2022-02-11T16:40:53.304848Z",
          "iopub.status.busy": "2022-02-11T16:40:53.304491Z",
          "iopub.status.idle": "2022-02-11T16:40:53.660019Z",
          "shell.execute_reply": "2022-02-11T16:40:53.659352Z",
          "shell.execute_reply.started": "2022-02-11T16:40:53.304807Z"
        },
        "trusted": true,
        "id": "NwHh4lTQWL0h",
        "colab": {
          "base_uri": "https://localhost:8080/",
          "height": 513
        },
        "outputId": "881bfa20-734c-4697-a2c3-76b13f817a9e"
      },
      "outputs": [
        {
          "output_type": "display_data",
          "data": {
            "image/png": "[encoded data removed]",
            "text/plain": [
              "<Figure size 432x288 with 1 Axes>"
            ]
          },
          "metadata": {
            "needs_background": "light"
          }
        },
        {
          "output_type": "display_data",
          "data": {
            "image/png": "[encoded data removed]",
            "text/plain": [
              "<Figure size 432x288 with 1 Axes>"
            ]
          },
          "metadata": {
            "needs_background": "light"
          }
        }
      ],
      "source": [
        "plt.plot(train_losses, label = \"Training loss\")\n",
        "plt.plot(test_losses, label = \"Testing loss\")\n",
        "plt.legend()\n",
        "plt.show()\n",
        "\n",
        "# plt.plot(train_accs, label = \"Training accuracy\")\n",
        "plt.plot(test_accs, label = \"Testing accuracy\")\n",
        "plt.legend()\n",
        "plt.show()"
      ]
    },
    {
      "cell_type": "markdown",
      "source": [
        "## Testing other discrete augmentation techniques"
      ],
      "metadata": {
        "id": "MOsM0omVWhGZ"
      }
    },
    {
      "cell_type": "code",
      "source": [
        "def get_synonyms(word):\n",
        "  \"\"\"Generate synonym\"\"\"\n",
        "  synonyms = set()\n",
        "  for syn in wordnet.synsets(word):\n",
        "    for lemma in syn.lemmas():\n",
        "      synonym = lemma.name().replace(\"_\", \" \").replace(\"-\", \" \").lower()\n",
        "      synonym = \"\".join([char for char in synonym if char in ' qwertyuiopasdfghjklzxcvbnm'])\n",
        "      synonyms.add(synonym)\n",
        "  if word in synonyms:\n",
        "    synonyms.remove(word)\n",
        "  \n",
        "  return list(synonyms)"
      ],
      "metadata": {
        "id": "UnPqTxnOWlNz"
      },
      "execution_count": 49,
      "outputs": []
    },
    {
      "cell_type": "code",
      "source": [
        "stopwords = stopwords.words('english')\n",
        "\n",
        "def synonym_replacement(self, sentence: str, n: int = 1):\n",
        "  \"\"\"Replace n words in the sentence with synonyms from wordnet\"\"\"\n",
        "  words = sentence.split()\n",
        "  new_words = words.copy()\n",
        "  random_word_list = list(set([word for word in words if word not in stopwords]))\n",
        "  random.shuffle(random_word_list)\n",
        "  replaced = 0\n",
        "  for random_word in random_word_list:\n",
        "    synonyms = get_synonyms(random_word)\n",
        "    if len(synonyms) > 0:\n",
        "      synonym = random.choice(list(synonyms))\n",
        "      new_words = [synonym if word == random_word else word for word in new_words]\n",
        "      replaced += 1\n",
        "    if replaced >= n:\n",
        "      break\n",
        "      \n",
        "  sentence = ' '.join(new_words)\n",
        "  \n",
        "  return sentence"
      ],
      "metadata": {
        "id": "yStQy8-WXQRH"
      },
      "execution_count": 53,
      "outputs": []
    },
    {
      "cell_type": "code",
      "source": [
        "dataset = load_dataset(\"trec\")\n",
        "train_eda = pd.DataFrame(dataset[\"train\"])\n",
        "test_eda = pd.DataFrame(dataset[\"test\"])"
      ],
      "metadata": {
        "colab": {
          "base_uri": "https://localhost:8080/",
          "height": 84,
          "referenced_widgets": [
            "867f1b4f9d2244daa07392733df95338",
            "8e6eb1892fa94bab9dd2e8a1f7518b91",
            "4adecc4114f140d99266afdd77186b29",
            "e485fee08a0a4e13ab3b1478d7fdf436",
            "4130a1123f5a4d84975ff8367b334731",
            "5c78ccd6abac48f09ed571b8e96f5997",
            "6b4eccac5b6f466a922eb33ba6838b1b",
            "8b377ec9083c447c91bf6b900342dc2d",
            "d697582cb0c142358afec20dee414869",
            "c366cf601e59416592f25ee3c4385cff",
            "03e4495410fd4526bec67343bfe94640"
          ]
        },
        "id": "3MQmgPZnZiNp",
        "outputId": "da1e71ae-df7f-4a39-f573-90506a120d3d"
      },
      "execution_count": 52,
      "outputs": [
        {
          "output_type": "stream",
          "name": "stderr",
          "text": [
            "Using custom data configuration default\n",
            "Reusing dataset trec (/root/.cache/huggingface/datasets/trec/default/1.1.0/751da1ab101b8d297a3d6e9c79ee9b0173ff94c4497b75677b59b61d5467a9b9)\n"
          ]
        },
        {
          "output_type": "display_data",
          "data": {
            "application/vnd.jupyter.widget-view+json": {
              "model_id": "867f1b4f9d2244daa07392733df95338",
              "version_minor": 0,
              "version_major": 2
            },
            "text/plain": [
              "  0%|          | 0/2 [00:00<?, ?it/s]"
            ]
          },
          "metadata": {}
        }
      ]
    },
    {
      "cell_type": "code",
      "source": [
        ""
      ],
      "metadata": {
        "id": "DAXe3QJGe5KO"
      },
      "execution_count": null,
      "outputs": []
    }
  ],
  "metadata": {
    "kernelspec": {
      "display_name": "Python 3",
      "language": "python",
      "name": "python3"
    },
    "language_info": {
      "codemirror_mode": {
        "name": "ipython",
        "version": 3
      },
      "file_extension": ".py",
      "mimetype": "text/x-python",
      "name": "python",
      "nbconvert_exporter": "python",
      "pygments_lexer": "ipython3",
      "version": "3.9.7"
    },
    "colab": {
      "name": "trec_mixup.ipynb",
      "provenance": [],
      "collapsed_sections": [],
      "include_colab_link": true
    },
    "accelerator": "GPU",
    "widgets": {
      "application/vnd.jupyter.widget-state+json": {
        "ccf09dfb99f24974b49c8fd632953cfd": {
          "model_module": "@jupyter-widgets/controls",
          "model_name": "HBoxModel",
          "model_module_version": "1.5.0",
          "state": {
            "_view_name": "HBoxView",
            "_dom_classes": [],
            "_model_name": "HBoxModel",
            "_view_module": "@jupyter-widgets/controls",
            "_model_module_version": "1.5.0",
            "_view_count": null,
            "_view_module_version": "1.5.0",
            "box_style": "",
            "layout": "IPY_MODEL_393b7a2750754b95aaa725278e40a641",
            "_model_module": "@jupyter-widgets/controls",
            "children": [
              "IPY_MODEL_73183f6f25e546958f2225a0fab1894c",
              "IPY_MODEL_8c437d98cb7b456bac736789c4a07ab2",
              "IPY_MODEL_6dae4a05131b418c867e51c925ade22a"
            ]
          }
        },
        "393b7a2750754b95aaa725278e40a641": {
          "model_module": "@jupyter-widgets/base",
          "model_name": "LayoutModel",
          "model_module_version": "1.2.0",
          "state": {
            "_view_name": "LayoutView",
            "grid_template_rows": null,
            "right": null,
            "justify_content": null,
            "_view_module": "@jupyter-widgets/base",
            "overflow": null,
            "_model_module_version": "1.2.0",
            "_view_count": null,
            "flex_flow": null,
            "width": null,
            "min_width": null,
            "border": null,
            "align_items": null,
            "bottom": null,
            "_model_module": "@jupyter-widgets/base",
            "top": null,
            "grid_column": null,
            "overflow_y": null,
            "overflow_x": null,
            "grid_auto_flow": null,
            "grid_area": null,
            "grid_template_columns": null,
            "flex": null,
            "_model_name": "LayoutModel",
            "justify_items": null,
            "grid_row": null,
            "max_height": null,
            "align_content": null,
            "visibility": null,
            "align_self": null,
            "height": null,
            "min_height": null,
            "padding": null,
            "grid_auto_rows": null,
            "grid_gap": null,
            "max_width": null,
            "order": null,
            "_view_module_version": "1.2.0",
            "grid_template_areas": null,
            "object_position": null,
            "object_fit": null,
            "grid_auto_columns": null,
            "margin": null,
            "display": null,
            "left": null
          }
        },
        "73183f6f25e546958f2225a0fab1894c": {
          "model_module": "@jupyter-widgets/controls",
          "model_name": "HTMLModel",
          "model_module_version": "1.5.0",
          "state": {
            "_view_name": "HTMLView",
            "style": "IPY_MODEL_4e7c73d5ab224b6ab773cda30fce63af",
            "_dom_classes": [],
            "description": "",
            "_model_name": "HTMLModel",
            "placeholder": "​",
            "_view_module": "@jupyter-widgets/controls",
            "_model_module_version": "1.5.0",
            "value": "100%",
            "_view_count": null,
            "_view_module_version": "1.5.0",
            "description_tooltip": null,
            "_model_module": "@jupyter-widgets/controls",
            "layout": "IPY_MODEL_3f264dad6abd448b95692941818e1878"
          }
        },
        "8c437d98cb7b456bac736789c4a07ab2": {
          "model_module": "@jupyter-widgets/controls",
          "model_name": "FloatProgressModel",
          "model_module_version": "1.5.0",
          "state": {
            "_view_name": "ProgressView",
            "style": "IPY_MODEL_0f8610b26afe4e7bbd971b89958dc5f9",
            "_dom_classes": [],
            "description": "",
            "_model_name": "FloatProgressModel",
            "bar_style": "success",
            "max": 2,
            "_view_module": "@jupyter-widgets/controls",
            "_model_module_version": "1.5.0",
            "value": 2,
            "_view_count": null,
            "_view_module_version": "1.5.0",
            "orientation": "horizontal",
            "min": 0,
            "description_tooltip": null,
            "_model_module": "@jupyter-widgets/controls",
            "layout": "IPY_MODEL_6110398e4d1d4f6d96213e9df621e589"
          }
        },
        "6dae4a05131b418c867e51c925ade22a": {
          "model_module": "@jupyter-widgets/controls",
          "model_name": "HTMLModel",
          "model_module_version": "1.5.0",
          "state": {
            "_view_name": "HTMLView",
            "style": "IPY_MODEL_548cb49ebce24bf38ae4862821bfbba7",
            "_dom_classes": [],
            "description": "",
            "_model_name": "HTMLModel",
            "placeholder": "​",
            "_view_module": "@jupyter-widgets/controls",
            "_model_module_version": "1.5.0",
            "value": " 2/2 [00:00&lt;00:00,  7.69it/s]",
            "_view_count": null,
            "_view_module_version": "1.5.0",
            "description_tooltip": null,
            "_model_module": "@jupyter-widgets/controls",
            "layout": "IPY_MODEL_52d500e4822b4cfca238257b436a61ca"
          }
        },
        "4e7c73d5ab224b6ab773cda30fce63af": {
          "model_module": "@jupyter-widgets/controls",
          "model_name": "DescriptionStyleModel",
          "model_module_version": "1.5.0",
          "state": {
            "_view_name": "StyleView",
            "_model_name": "DescriptionStyleModel",
            "description_width": "",
            "_view_module": "@jupyter-widgets/base",
            "_model_module_version": "1.5.0",
            "_view_count": null,
            "_view_module_version": "1.2.0",
            "_model_module": "@jupyter-widgets/controls"
          }
        },
        "3f264dad6abd448b95692941818e1878": {
          "model_module": "@jupyter-widgets/base",
          "model_name": "LayoutModel",
          "model_module_version": "1.2.0",
          "state": {
            "_view_name": "LayoutView",
            "grid_template_rows": null,
            "right": null,
            "justify_content": null,
            "_view_module": "@jupyter-widgets/base",
            "overflow": null,
            "_model_module_version": "1.2.0",
            "_view_count": null,
            "flex_flow": null,
            "width": null,
            "min_width": null,
            "border": null,
            "align_items": null,
            "bottom": null,
            "_model_module": "@jupyter-widgets/base",
            "top": null,
            "grid_column": null,
            "overflow_y": null,
            "overflow_x": null,
            "grid_auto_flow": null,
            "grid_area": null,
            "grid_template_columns": null,
            "flex": null,
            "_model_name": "LayoutModel",
            "justify_items": null,
            "grid_row": null,
            "max_height": null,
            "align_content": null,
            "visibility": null,
            "align_self": null,
            "height": null,
            "min_height": null,
            "padding": null,
            "grid_auto_rows": null,
            "grid_gap": null,
            "max_width": null,
            "order": null,
            "_view_module_version": "1.2.0",
            "grid_template_areas": null,
            "object_position": null,
            "object_fit": null,
            "grid_auto_columns": null,
            "margin": null,
            "display": null,
            "left": null
          }
        },
        "0f8610b26afe4e7bbd971b89958dc5f9": {
          "model_module": "@jupyter-widgets/controls",
          "model_name": "ProgressStyleModel",
          "model_module_version": "1.5.0",
          "state": {
            "_view_name": "StyleView",
            "_model_name": "ProgressStyleModel",
            "description_width": "",
            "_view_module": "@jupyter-widgets/base",
            "_model_module_version": "1.5.0",
            "_view_count": null,
            "_view_module_version": "1.2.0",
            "bar_color": null,
            "_model_module": "@jupyter-widgets/controls"
          }
        },
        "6110398e4d1d4f6d96213e9df621e589": {
          "model_module": "@jupyter-widgets/base",
          "model_name": "LayoutModel",
          "model_module_version": "1.2.0",
          "state": {
            "_view_name": "LayoutView",
            "grid_template_rows": null,
            "right": null,
            "justify_content": null,
            "_view_module": "@jupyter-widgets/base",
            "overflow": null,
            "_model_module_version": "1.2.0",
            "_view_count": null,
            "flex_flow": null,
            "width": null,
            "min_width": null,
            "border": null,
            "align_items": null,
            "bottom": null,
            "_model_module": "@jupyter-widgets/base",
            "top": null,
            "grid_column": null,
            "overflow_y": null,
            "overflow_x": null,
            "grid_auto_flow": null,
            "grid_area": null,
            "grid_template_columns": null,
            "flex": null,
            "_model_name": "LayoutModel",
            "justify_items": null,
            "grid_row": null,
            "max_height": null,
            "align_content": null,
            "visibility": null,
            "align_self": null,
            "height": null,
            "min_height": null,
            "padding": null,
            "grid_auto_rows": null,
            "grid_gap": null,
            "max_width": null,
            "order": null,
            "_view_module_version": "1.2.0",
            "grid_template_areas": null,
            "object_position": null,
            "object_fit": null,
            "grid_auto_columns": null,
            "margin": null,
            "display": null,
            "left": null
          }
        },
        "548cb49ebce24bf38ae4862821bfbba7": {
          "model_module": "@jupyter-widgets/controls",
          "model_name": "DescriptionStyleModel",
          "model_module_version": "1.5.0",
          "state": {
            "_view_name": "StyleView",
            "_model_name": "DescriptionStyleModel",
            "description_width": "",
            "_view_module": "@jupyter-widgets/base",
            "_model_module_version": "1.5.0",
            "_view_count": null,
            "_view_module_version": "1.2.0",
            "_model_module": "@jupyter-widgets/controls"
          }
        },
        "52d500e4822b4cfca238257b436a61ca": {
          "model_module": "@jupyter-widgets/base",
          "model_name": "LayoutModel",
          "model_module_version": "1.2.0",
          "state": {
            "_view_name": "LayoutView",
            "grid_template_rows": null,
            "right": null,
            "justify_content": null,
            "_view_module": "@jupyter-widgets/base",
            "overflow": null,
            "_model_module_version": "1.2.0",
            "_view_count": null,
            "flex_flow": null,
            "width": null,
            "min_width": null,
            "border": null,
            "align_items": null,
            "bottom": null,
            "_model_module": "@jupyter-widgets/base",
            "top": null,
            "grid_column": null,
            "overflow_y": null,
            "overflow_x": null,
            "grid_auto_flow": null,
            "grid_area": null,
            "grid_template_columns": null,
            "flex": null,
            "_model_name": "LayoutModel",
            "justify_items": null,
            "grid_row": null,
            "max_height": null,
            "align_content": null,
            "visibility": null,
            "align_self": null,
            "height": null,
            "min_height": null,
            "padding": null,
            "grid_auto_rows": null,
            "grid_gap": null,
            "max_width": null,
            "order": null,
            "_view_module_version": "1.2.0",
            "grid_template_areas": null,
            "object_position": null,
            "object_fit": null,
            "grid_auto_columns": null,
            "margin": null,
            "display": null,
            "left": null
          }
        },
        "867f1b4f9d2244daa07392733df95338": {
          "model_module": "@jupyter-widgets/controls",
          "model_name": "HBoxModel",
          "model_module_version": "1.5.0",
          "state": {
            "_view_name": "HBoxView",
            "_dom_classes": [],
            "_model_name": "HBoxModel",
            "_view_module": "@jupyter-widgets/controls",
            "_model_module_version": "1.5.0",
            "_view_count": null,
            "_view_module_version": "1.5.0",
            "box_style": "",
            "layout": "IPY_MODEL_8e6eb1892fa94bab9dd2e8a1f7518b91",
            "_model_module": "@jupyter-widgets/controls",
            "children": [
              "IPY_MODEL_4adecc4114f140d99266afdd77186b29",
              "IPY_MODEL_e485fee08a0a4e13ab3b1478d7fdf436",
              "IPY_MODEL_4130a1123f5a4d84975ff8367b334731"
            ]
          }
        },
        "8e6eb1892fa94bab9dd2e8a1f7518b91": {
          "model_module": "@jupyter-widgets/base",
          "model_name": "LayoutModel",
          "model_module_version": "1.2.0",
          "state": {
            "_view_name": "LayoutView",
            "grid_template_rows": null,
            "right": null,
            "justify_content": null,
            "_view_module": "@jupyter-widgets/base",
            "overflow": null,
            "_model_module_version": "1.2.0",
            "_view_count": null,
            "flex_flow": null,
            "width": null,
            "min_width": null,
            "border": null,
            "align_items": null,
            "bottom": null,
            "_model_module": "@jupyter-widgets/base",
            "top": null,
            "grid_column": null,
            "overflow_y": null,
            "overflow_x": null,
            "grid_auto_flow": null,
            "grid_area": null,
            "grid_template_columns": null,
            "flex": null,
            "_model_name": "LayoutModel",
            "justify_items": null,
            "grid_row": null,
            "max_height": null,
            "align_content": null,
            "visibility": null,
            "align_self": null,
            "height": null,
            "min_height": null,
            "padding": null,
            "grid_auto_rows": null,
            "grid_gap": null,
            "max_width": null,
            "order": null,
            "_view_module_version": "1.2.0",
            "grid_template_areas": null,
            "object_position": null,
            "object_fit": null,
            "grid_auto_columns": null,
            "margin": null,
            "display": null,
            "left": null
          }
        },
        "4adecc4114f140d99266afdd77186b29": {
          "model_module": "@jupyter-widgets/controls",
          "model_name": "HTMLModel",
          "model_module_version": "1.5.0",
          "state": {
            "_view_name": "HTMLView",
            "style": "IPY_MODEL_5c78ccd6abac48f09ed571b8e96f5997",
            "_dom_classes": [],
            "description": "",
            "_model_name": "HTMLModel",
            "placeholder": "​",
            "_view_module": "@jupyter-widgets/controls",
            "_model_module_version": "1.5.0",
            "value": "100%",
            "_view_count": null,
            "_view_module_version": "1.5.0",
            "description_tooltip": null,
            "_model_module": "@jupyter-widgets/controls",
            "layout": "IPY_MODEL_6b4eccac5b6f466a922eb33ba6838b1b"
          }
        },
        "e485fee08a0a4e13ab3b1478d7fdf436": {
          "model_module": "@jupyter-widgets/controls",
          "model_name": "FloatProgressModel",
          "model_module_version": "1.5.0",
          "state": {
            "_view_name": "ProgressView",
            "style": "IPY_MODEL_8b377ec9083c447c91bf6b900342dc2d",
            "_dom_classes": [],
            "description": "",
            "_model_name": "FloatProgressModel",
            "bar_style": "success",
            "max": 2,
            "_view_module": "@jupyter-widgets/controls",
            "_model_module_version": "1.5.0",
            "value": 2,
            "_view_count": null,
            "_view_module_version": "1.5.0",
            "orientation": "horizontal",
            "min": 0,
            "description_tooltip": null,
            "_model_module": "@jupyter-widgets/controls",
            "layout": "IPY_MODEL_d697582cb0c142358afec20dee414869"
          }
        },
        "4130a1123f5a4d84975ff8367b334731": {
          "model_module": "@jupyter-widgets/controls",
          "model_name": "HTMLModel",
          "model_module_version": "1.5.0",
          "state": {
            "_view_name": "HTMLView",
            "style": "IPY_MODEL_c366cf601e59416592f25ee3c4385cff",
            "_dom_classes": [],
            "description": "",
            "_model_name": "HTMLModel",
            "placeholder": "​",
            "_view_module": "@jupyter-widgets/controls",
            "_model_module_version": "1.5.0",
            "value": " 2/2 [00:00&lt;00:00,  8.16it/s]",
            "_view_count": null,
            "_view_module_version": "1.5.0",
            "description_tooltip": null,
            "_model_module": "@jupyter-widgets/controls",
            "layout": "IPY_MODEL_03e4495410fd4526bec67343bfe94640"
          }
        },
        "5c78ccd6abac48f09ed571b8e96f5997": {
          "model_module": "@jupyter-widgets/controls",
          "model_name": "DescriptionStyleModel",
          "model_module_version": "1.5.0",
          "state": {
            "_view_name": "StyleView",
            "_model_name": "DescriptionStyleModel",
            "description_width": "",
            "_view_module": "@jupyter-widgets/base",
            "_model_module_version": "1.5.0",
            "_view_count": null,
            "_view_module_version": "1.2.0",
            "_model_module": "@jupyter-widgets/controls"
          }
        },
        "6b4eccac5b6f466a922eb33ba6838b1b": {
          "model_module": "@jupyter-widgets/base",
          "model_name": "LayoutModel",
          "model_module_version": "1.2.0",
          "state": {
            "_view_name": "LayoutView",
            "grid_template_rows": null,
            "right": null,
            "justify_content": null,
            "_view_module": "@jupyter-widgets/base",
            "overflow": null,
            "_model_module_version": "1.2.0",
            "_view_count": null,
            "flex_flow": null,
            "width": null,
            "min_width": null,
            "border": null,
            "align_items": null,
            "bottom": null,
            "_model_module": "@jupyter-widgets/base",
            "top": null,
            "grid_column": null,
            "overflow_y": null,
            "overflow_x": null,
            "grid_auto_flow": null,
            "grid_area": null,
            "grid_template_columns": null,
            "flex": null,
            "_model_name": "LayoutModel",
            "justify_items": null,
            "grid_row": null,
            "max_height": null,
            "align_content": null,
            "visibility": null,
            "align_self": null,
            "height": null,
            "min_height": null,
            "padding": null,
            "grid_auto_rows": null,
            "grid_gap": null,
            "max_width": null,
            "order": null,
            "_view_module_version": "1.2.0",
            "grid_template_areas": null,
            "object_position": null,
            "object_fit": null,
            "grid_auto_columns": null,
            "margin": null,
            "display": null,
            "left": null
          }
        },
        "8b377ec9083c447c91bf6b900342dc2d": {
          "model_module": "@jupyter-widgets/controls",
          "model_name": "ProgressStyleModel",
          "model_module_version": "1.5.0",
          "state": {
            "_view_name": "StyleView",
            "_model_name": "ProgressStyleModel",
            "description_width": "",
            "_view_module": "@jupyter-widgets/base",
            "_model_module_version": "1.5.0",
            "_view_count": null,
            "_view_module_version": "1.2.0",
            "bar_color": null,
            "_model_module": "@jupyter-widgets/controls"
          }
        },
        "d697582cb0c142358afec20dee414869": {
          "model_module": "@jupyter-widgets/base",
          "model_name": "LayoutModel",
          "model_module_version": "1.2.0",
          "state": {
            "_view_name": "LayoutView",
            "grid_template_rows": null,
            "right": null,
            "justify_content": null,
            "_view_module": "@jupyter-widgets/base",
            "overflow": null,
            "_model_module_version": "1.2.0",
            "_view_count": null,
            "flex_flow": null,
            "width": null,
            "min_width": null,
            "border": null,
            "align_items": null,
            "bottom": null,
            "_model_module": "@jupyter-widgets/base",
            "top": null,
            "grid_column": null,
            "overflow_y": null,
            "overflow_x": null,
            "grid_auto_flow": null,
            "grid_area": null,
            "grid_template_columns": null,
            "flex": null,
            "_model_name": "LayoutModel",
            "justify_items": null,
            "grid_row": null,
            "max_height": null,
            "align_content": null,
            "visibility": null,
            "align_self": null,
            "height": null,
            "min_height": null,
            "padding": null,
            "grid_auto_rows": null,
            "grid_gap": null,
            "max_width": null,
            "order": null,
            "_view_module_version": "1.2.0",
            "grid_template_areas": null,
            "object_position": null,
            "object_fit": null,
            "grid_auto_columns": null,
            "margin": null,
            "display": null,
            "left": null
          }
        },
        "c366cf601e59416592f25ee3c4385cff": {
          "model_module": "@jupyter-widgets/controls",
          "model_name": "DescriptionStyleModel",
          "model_module_version": "1.5.0",
          "state": {
            "_view_name": "StyleView",
            "_model_name": "DescriptionStyleModel",
            "description_width": "",
            "_view_module": "@jupyter-widgets/base",
            "_model_module_version": "1.5.0",
            "_view_count": null,
            "_view_module_version": "1.2.0",
            "_model_module": "@jupyter-widgets/controls"
          }
        },
        "03e4495410fd4526bec67343bfe94640": {
          "model_module": "@jupyter-widgets/base",
          "model_name": "LayoutModel",
          "model_module_version": "1.2.0",
          "state": {
            "_view_name": "LayoutView",
            "grid_template_rows": null,
            "right": null,
            "justify_content": null,
            "_view_module": "@jupyter-widgets/base",
            "overflow": null,
            "_model_module_version": "1.2.0",
            "_view_count": null,
            "flex_flow": null,
            "width": null,
            "min_width": null,
            "border": null,
            "align_items": null,
            "bottom": null,
            "_model_module": "@jupyter-widgets/base",
            "top": null,
            "grid_column": null,
            "overflow_y": null,
            "overflow_x": null,
            "grid_auto_flow": null,
            "grid_area": null,
            "grid_template_columns": null,
            "flex": null,
            "_model_name": "LayoutModel",
            "justify_items": null,
            "grid_row": null,
            "max_height": null,
            "align_content": null,
            "visibility": null,
            "align_self": null,
            "height": null,
            "min_height": null,
            "padding": null,
            "grid_auto_rows": null,
            "grid_gap": null,
            "max_width": null,
            "order": null,
            "_view_module_version": "1.2.0",
            "grid_template_areas": null,
            "object_position": null,
            "object_fit": null,
            "grid_auto_columns": null,
            "margin": null,
            "display": null,
            "left": null
          }
        }
      }
    }
  },
  "nbformat": 4,
  "nbformat_minor": 0
}