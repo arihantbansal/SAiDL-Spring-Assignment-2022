{
  "cells": [
    {
      "cell_type": "markdown",
      "metadata": {
        "id": "11fPdGo15XJl"
      },
      "source": [
        "# Core ML: Bayesian NNs via MCMC\n"
      ]
    },
    {
      "cell_type": "markdown",
      "metadata": {
        "id": "UMBAjzMp5XJx"
      },
      "source": [
        "## Import libraries"
      ]
    },
    {
      "cell_type": "code",
      "execution_count": null,
      "metadata": {
        "id": "ROtQ9pGx5XJz"
      },
      "outputs": [],
      "source": [
        "import numpy as np\n",
        "import matplotlib.pyplot as plt\n",
        "\n",
        "from pathlib import Path\n",
        "import time\n",
        "\n",
        "import warnings\n",
        "warnings.filterwarnings(\"ignore\")\n"
      ]
    },
    {
      "cell_type": "code",
      "source": [
        "# Set random seed\n",
        "\n",
        "np.random.seed(42)"
      ],
      "metadata": {
        "id": "bFxsSUzL7S04"
      },
      "execution_count": null,
      "outputs": []
    },
    {
      "cell_type": "markdown",
      "metadata": {
        "id": "SedTFhav5XJ4"
      },
      "source": [
        "## Prepare noisy XOR dataset"
      ]
    },
    {
      "cell_type": "code",
      "execution_count": null,
      "metadata": {
        "id": "3Pkoc5NK5XJ7"
      },
      "outputs": [],
      "source": [
        "# From https://arxiv.org/pdf/1910.06539.pdf\n",
        "\n",
        "def simulate_xor(n=np.repeat(100, 4), s=0.25):\n",
        "\tx = np.vstack([\n",
        "            # points corresponding to (0, 0)\n",
        "            np.column_stack(\n",
        "            \t[np.random.rand(n[0]) - s, np.random.rand(n[0]) - s]),\n",
        "            # points corresponding to (0, 1)\n",
        "            np.column_stack(\n",
        "            \t[np.random.rand(n[1]) - s, np.random.rand(n[1]) + s]),\n",
        "            # points corresponding to (1, 0)\n",
        "            np.column_stack(\n",
        "            \t[np.random.rand(n[2]) + s, np.random.rand(n[2]) - s]),\n",
        "            # points corresponding to (1, 1)\n",
        "            np.column_stack(\n",
        "            \t[np.random.rand(n[3]) + s, np.random.rand(n[3]) + s])\n",
        "\t])\n",
        "\n",
        "\ty = np.repeat([0, 1, 1, 0], n)\n",
        "\n",
        "\treturn x, y\n"
      ]
    },
    {
      "cell_type": "code",
      "source": [
        "# Define function for simulating noisy XOR points\n",
        "\n",
        "def simulate_noisy_xor(n, s=0.5):\n",
        "\t\n",
        "  # x -> n x 2 matrix\n",
        "  x = np.hstack((\n",
        "      # x1 -> n x 1 vector\n",
        "      np.random.rand(n, 1),\n",
        "      # x2 -> n x 1 vector\n",
        "      np.random.rand(n, 1)\n",
        "  ))\n",
        "  \n",
        "  temp = np.where(x > s, 1, 0)\n",
        "  y = np.bitwise_xor(temp[:, 0], temp[:, 1])\n",
        "  return x, y\n"
      ],
      "metadata": {
        "id": "Xylf8yE07FpO"
      },
      "execution_count": null,
      "outputs": []
    },
    {
      "cell_type": "code",
      "execution_count": null,
      "metadata": {
        "id": "Y5fm24kI5XJ_"
      },
      "outputs": [],
      "source": [
        "# Initialize constants for dataset\n",
        "\n",
        "num_training_samples = 10000\n",
        "num_test_samples = 2000"
      ]
    },
    {
      "cell_type": "code",
      "execution_count": null,
      "metadata": {
        "id": "ldGtUk8F5XKC"
      },
      "outputs": [],
      "source": [
        "# Create train and test dataset\n",
        "\n",
        "x_train, y_train = simulate_noisy_xor(num_training_samples)\n",
        "x_test, y_test = simulate_noisy_xor(num_test_samples)"
      ]
    },
    {
      "cell_type": "code",
      "execution_count": null,
      "metadata": {
        "id": "lJxgMHwC5XKH"
      },
      "outputs": [],
      "source": [
        "# Save train dataset to file\n",
        "\n",
        "train_data_path = Path(\"data/train\")\n",
        "\n",
        "train_data_path.mkdir(parents=True, exist_ok=True)\n",
        "\n",
        "np.savetxt(train_data_path.joinpath(\"x_train.csv\"), x_train, delimiter=\",\", header=\"x1,x2\", comments=\"\")\n",
        "np.savetxt(train_data_path.joinpath(\"y_train.csv\"), y_train,\n",
        "           delimiter=\",\", header=\"y\", comments=\"\")\n"
      ]
    },
    {
      "cell_type": "code",
      "execution_count": null,
      "metadata": {
        "id": "dRtfTnnC5XKK"
      },
      "outputs": [],
      "source": [
        "# Save test dataset to file\n",
        "\n",
        "test_data_path = Path(\"data/test\")\n",
        "\n",
        "test_data_path.mkdir(parents=True, exist_ok=True)\n",
        "\n",
        "np.savetxt(test_data_path.joinpath(\"x_test.csv\"), x_test,\n",
        "           delimiter=\",\", header=\"x1,x2\", comments=\"\")\n",
        "np.savetxt(test_data_path.joinpath(\"y_test.csv\"), y_test,\n",
        "           delimiter=\",\", header=\"y\", comments=\"\")\n"
      ]
    },
    {
      "cell_type": "markdown",
      "metadata": {
        "id": "Tt3-5ZVL5XKO"
      },
      "source": [
        "## Plot training and test data"
      ]
    },
    {
      "cell_type": "code",
      "execution_count": null,
      "metadata": {
        "id": "lHNCOoMi5XKQ",
        "outputId": "a60a7b33-47f6-4125-c3b9-8df82d30ab61",
        "colab": {
          "base_uri": "https://localhost:8080/",
          "height": 434
        }
      },
      "outputs": [
        {
          "output_type": "display_data",
          "data": {
            "image/png": "[encoded data removed]",
            "text/plain": [
              "<Figure size 460.8x460.8 with 1 Axes>"
            ]
          },
          "metadata": {
            "needs_background": "light"
          }
        }
      ],
      "source": [
        "# Setting up plot design\n",
        "\n",
        "colors = ['#1f77b4', '#ff7f0e']\n",
        "color_columns = np.where(y_train[:500] == 1, colors[0], colors[1])\n",
        "\n",
        "labels = ['XOR = 1', 'XOR = 2']\n",
        "# label_columns = np.where(y_train[:500] == 1, labels[0], labels[1])\n",
        "\n",
        "plt.figure(figsize=[6.4, 6.4])\n",
        "\n",
        "plt.rcParams['axes.labelsize'] = 14\n",
        "plt.rcParams['axes.titlesize'] = 14\n",
        "plt.rcParams['xtick.labelsize'] = 12\n",
        "plt.rcParams['ytick.labelsize'] = 12\n",
        "plt.rcParams['legend.fontsize'] = 12\n",
        "\n",
        "plt.xlabel(\"x1\")\n",
        "plt.ylabel(\"x2\")\n",
        "\n",
        "plt.title(\"Noisy XOR (threshold = 0.5)\")\n",
        "\n",
        "output_path = Path(\"data/imgs\")\n",
        "output_path.mkdir(parents=True, exist_ok=True)\n",
        "\n",
        "# Plot training data\n",
        "\n",
        "plt.scatter(x_train[:500, 0], x_train[:500, 1], c=color_columns)\n",
        "\n",
        "# Save plot for reference\n",
        "\n",
        "plt.savefig(\n",
        "    output_path.joinpath('noisy_xor_training_set.jpg'),\n",
        "    pil_kwargs={'quality': 100},\n",
        "    transparent=True,\n",
        "    bbox_inches='tight',\n",
        "    pad_inches=0.1\n",
        ")\n"
      ]
    },
    {
      "cell_type": "markdown",
      "metadata": {
        "id": "7yMGuxyd5XKX"
      },
      "source": [
        "## MLP"
      ]
    },
    {
      "cell_type": "markdown",
      "source": [
        "Atleast 1 hidden layer required to replicate XOR function, with non-linearity. "
      ],
      "metadata": {
        "id": "paAD8VTgLbHy"
      }
    },
    {
      "cell_type": "code",
      "source": [
        "# Helper functions\n",
        "\n",
        "def sigmoid(x):\n",
        "  return 1 / (1 + np.exp(-x))\n",
        "\n",
        "def relu(x):\n",
        "  return x * (x > 0)\n",
        "\n",
        "def nll_likelihood(y, y_pred):\n",
        "  return -1.0 * np.sum((y - y_pred) ** 2)\n",
        "\n",
        "def epoch_time(start, end):\n",
        "  elapsed_time = end - start\n",
        "  elapsed_mins = int(elapsed_time / 60)\n",
        "  elapsed_secs = int(elapsed_time  - (elapsed_mins * 60))\n",
        "\n",
        "  return elapsed_mins, elapsed_secs"
      ],
      "metadata": {
        "id": "T_5WfqxPQhS1"
      },
      "execution_count": null,
      "outputs": []
    },
    {
      "cell_type": "code",
      "execution_count": null,
      "metadata": {
        "id": "ulFVRlYA5XKZ"
      },
      "outputs": [],
      "source": [
        "# MLP implementation from scratch\n",
        "\n",
        "class MLP():\n",
        "  def __init__(self):\n",
        "    self.weights = np.asarray([\n",
        "        np.random.randn(2, 3),\n",
        "        np.random.randn(1, 3)\n",
        "    ], dtype=object)\n",
        "\n",
        "    self.bias = np.asarray([\n",
        "        np.random.randn(3, 1),\n",
        "        np.random.randn(1, 1)\n",
        "    ], dtype=object)\n",
        "\n",
        "  def forward(self, x, weights=None, bias=None):\n",
        "    if weights is None:\n",
        "      weights = self.weights\n",
        "\n",
        "    if bias is None:\n",
        "      bias = self.bias\n",
        "\n",
        "    x = sigmoid(x @ weights[0] + bias[0].T)\n",
        "    out = sigmoid(x @ weights[1].T + bias[1])\n",
        "\n",
        "    return out\n"
      ]
    },
    {
      "cell_type": "code",
      "source": [
        "def generate_weights(weights, biases):\n",
        "  prop_layer_weights = np.asarray([\n",
        "      np.random.randn(2, 3) + weights[0],\n",
        "      np.random.randn(1, 3) + weights[1]\n",
        "  ], dtype=object)\n",
        "\n",
        "  prop_layer_biases = np.asarray([\n",
        "      np.random.randn(3, 1) + biases[0],\n",
        "      np.random.randn(1, 1) + biases[1]\n",
        "  ], dtype=object)\n",
        "\n",
        "  # print(prop_layer_weights.shape)\n",
        "  # print(prop_layer_biases.shape)\n",
        "\n",
        "  return prop_layer_weights, prop_layer_biases\n",
        "\n",
        "def accuracy(data, labels, model):\n",
        "  predictions = []\n",
        "  for x in data:\n",
        "    x_new = model.forward(x)\n",
        "    if x_new > 0.5:\n",
        "      predictions.append(1)\n",
        "    else:\n",
        "      predictions.append(0)\n",
        "    \n",
        "    accuracy = (labels == predictions).sum() / labels.shape[0]\n",
        "  return accuracy\n",
        "\n",
        "def acceptance(old_ll, new_ll):\n",
        "  if new_ll > old_ll:\n",
        "    return True\n",
        "  else:\n",
        "    acceptance_diff = np.log(np.random.uniform())\n",
        "    return (new_ll - old_ll) > acceptance_diff\n",
        "\n",
        "def prior(weights, biases):\n",
        "  sum = 0\n",
        "  for weight in weights:\n",
        "    sum += -1.0 * np.sum(weight ** 2)\n",
        "\n",
        "  for bias in biases:\n",
        "    sum += -1.0 * np.sum(bias ** 2)\n",
        "  \n",
        "  return sum"
      ],
      "metadata": {
        "id": "e7hM82OKWH6k"
      },
      "execution_count": null,
      "outputs": []
    },
    {
      "cell_type": "code",
      "source": [
        "from sklearn.metrics import accuracy_score\n",
        "\n",
        "best_mh_model_pos = -1\n",
        "best_mh_likelihood = float(\"-inf\")\n",
        "\n",
        "def metropolis_hastings(data, labels, epochs, model):\n",
        "  global best_mh_likelihood\n",
        "  global best_mh_model_pos\n",
        "  accepted_proposals = []\n",
        "  rejected_proposals = []\n",
        "\n",
        "  accuracy = []\n",
        "\n",
        "  for epoch in range(epochs):\n",
        "    start_time = time.time()\n",
        "\n",
        "    weights = model.weights\n",
        "    biases = model.bias\n",
        "    new_weights, new_biases = generate_weights(weights, biases)\n",
        "\n",
        "    current_prediction = model.forward(data, weights, biases)\n",
        "    new_prediction = model.forward(data, new_weights, new_biases)\n",
        "\n",
        "    current_prediction = current_prediction.squeeze()\n",
        "    new_prediction = new_prediction.squeeze()\n",
        "\n",
        "    new_likelihood = nll_likelihood(labels, new_prediction) + prior(new_weights, new_biases)\n",
        "    current_likelihood = nll_likelihood(labels, current_prediction) + prior(weights, biases)\n",
        "\n",
        "    if acceptance(current_likelihood, new_likelihood):\n",
        "      final_weight = new_weights\n",
        "      final_bias = new_biases\n",
        "      accepted_proposals.append([final_weight, final_bias])\n",
        "    else:\n",
        "      final_weight = weights\n",
        "      final_bias = biases\n",
        "      rejected_proposals.append([final_weight, final_bias])\n",
        "\n",
        "    if new_likelihood > best_mh_likelihood:\n",
        "      best_mh_likelihood = new_likelihood\n",
        "      best_mh_model_pos = len(accepted_proposals) - 1\n",
        "    \n",
        "    model.weights = final_weight\n",
        "    model.bias = final_bias\n",
        "\n",
        "    end_time = time.time()\n",
        "\n",
        "    epoch_mins, epoch_secs = epoch_time(start_time, end_time)\n",
        "\n",
        "    if epoch % 100 == 0:\n",
        "      current_accuracy = accuracy_score(labels, model.forward(data) > 0.5)\n",
        "      accuracy.append(current_accuracy)\n",
        "      print(f\"Epoch: {epoch: 02} | Epoch Time: {epoch_mins}m {epoch_secs}s\")\n",
        "      print(f\"\\tAccuracy Score: {current_accuracy: .3f}\")\n",
        "\n",
        "      \n",
        "  return accepted_proposals, rejected_proposals, accuracy"
      ],
      "metadata": {
        "id": "py96TH2sKYgt"
      },
      "execution_count": null,
      "outputs": []
    },
    {
      "cell_type": "code",
      "source": [
        "# Initialize model\n",
        "xor_model = MLP()"
      ],
      "metadata": {
        "id": "r7coF4rEQwB6"
      },
      "execution_count": null,
      "outputs": []
    },
    {
      "cell_type": "code",
      "source": [
        "# Check shape of data before training\n",
        "\n",
        "x_train.shape, y_train.shape"
      ],
      "metadata": {
        "colab": {
          "base_uri": "https://localhost:8080/"
        },
        "id": "NHwBxwBuSsms",
        "outputId": "5da9273c-c59e-43be-c8ce-1d83312aefba"
      },
      "execution_count": null,
      "outputs": [
        {
          "output_type": "execute_result",
          "data": {
            "text/plain": [
              "((10000, 2), (10000,))"
            ]
          },
          "metadata": {},
          "execution_count": 24
        }
      ]
    },
    {
      "cell_type": "code",
      "source": [
        "# Train model using Bayesian Statistics\n",
        "\n",
        "accept, reject, train_acc = metropolis_hastings(x_train, y_train, 10000, xor_model)"
      ],
      "metadata": {
        "colab": {
          "base_uri": "https://localhost:8080/"
        },
        "id": "i6PZZTt2QY1O",
        "outputId": "dfb5c584-8c95-4b92-cee3-4ba1a45c3dda"
      },
      "execution_count": null,
      "outputs": [
        {
          "output_type": "stream",
          "name": "stdout",
          "text": [
            "Epoch:  0 | Epoch Time: 0m 0s\n",
            "\tAccuracy Score:  0.501\n",
            "Epoch:  100 | Epoch Time: 0m 0s\n",
            "\tAccuracy Score:  0.663\n",
            "Epoch:  200 | Epoch Time: 0m 0s\n",
            "\tAccuracy Score:  0.806\n",
            "Epoch:  300 | Epoch Time: 0m 0s\n",
            "\tAccuracy Score:  0.655\n",
            "Epoch:  400 | Epoch Time: 0m 0s\n",
            "\tAccuracy Score:  0.769\n",
            "Epoch:  500 | Epoch Time: 0m 0s\n",
            "\tAccuracy Score:  0.705\n",
            "Epoch:  600 | Epoch Time: 0m 0s\n",
            "\tAccuracy Score:  0.767\n",
            "Epoch:  700 | Epoch Time: 0m 0s\n",
            "\tAccuracy Score:  0.819\n",
            "Epoch:  800 | Epoch Time: 0m 0s\n",
            "\tAccuracy Score:  0.881\n",
            "Epoch:  900 | Epoch Time: 0m 0s\n",
            "\tAccuracy Score:  0.881\n",
            "Epoch:  1000 | Epoch Time: 0m 0s\n",
            "\tAccuracy Score:  0.896\n",
            "Epoch:  1100 | Epoch Time: 0m 0s\n",
            "\tAccuracy Score:  0.896\n",
            "Epoch:  1200 | Epoch Time: 0m 0s\n",
            "\tAccuracy Score:  0.896\n",
            "Epoch:  1300 | Epoch Time: 0m 0s\n",
            "\tAccuracy Score:  0.896\n",
            "Epoch:  1400 | Epoch Time: 0m 0s\n",
            "\tAccuracy Score:  0.896\n",
            "Epoch:  1500 | Epoch Time: 0m 0s\n",
            "\tAccuracy Score:  0.896\n",
            "Epoch:  1600 | Epoch Time: 0m 0s\n",
            "\tAccuracy Score:  0.896\n",
            "Epoch:  1700 | Epoch Time: 0m 0s\n",
            "\tAccuracy Score:  0.896\n",
            "Epoch:  1800 | Epoch Time: 0m 0s\n",
            "\tAccuracy Score:  0.896\n",
            "Epoch:  1900 | Epoch Time: 0m 0s\n",
            "\tAccuracy Score:  0.889\n",
            "Epoch:  2000 | Epoch Time: 0m 0s\n",
            "\tAccuracy Score:  0.889\n",
            "Epoch:  2100 | Epoch Time: 0m 0s\n",
            "\tAccuracy Score:  0.889\n",
            "Epoch:  2200 | Epoch Time: 0m 0s\n",
            "\tAccuracy Score:  0.889\n",
            "Epoch:  2300 | Epoch Time: 0m 0s\n",
            "\tAccuracy Score:  0.889\n",
            "Epoch:  2400 | Epoch Time: 0m 0s\n",
            "\tAccuracy Score:  0.889\n",
            "Epoch:  2500 | Epoch Time: 0m 0s\n",
            "\tAccuracy Score:  0.889\n",
            "Epoch:  2600 | Epoch Time: 0m 0s\n",
            "\tAccuracy Score:  0.889\n",
            "Epoch:  2700 | Epoch Time: 0m 0s\n",
            "\tAccuracy Score:  0.889\n",
            "Epoch:  2800 | Epoch Time: 0m 0s\n",
            "\tAccuracy Score:  0.889\n",
            "Epoch:  2900 | Epoch Time: 0m 0s\n",
            "\tAccuracy Score:  0.889\n",
            "Epoch:  3000 | Epoch Time: 0m 0s\n",
            "\tAccuracy Score:  0.889\n",
            "Epoch:  3100 | Epoch Time: 0m 0s\n",
            "\tAccuracy Score:  0.889\n",
            "Epoch:  3200 | Epoch Time: 0m 0s\n",
            "\tAccuracy Score:  0.889\n",
            "Epoch:  3300 | Epoch Time: 0m 0s\n",
            "\tAccuracy Score:  0.896\n",
            "Epoch:  3400 | Epoch Time: 0m 0s\n",
            "\tAccuracy Score:  0.898\n",
            "Epoch:  3500 | Epoch Time: 0m 0s\n",
            "\tAccuracy Score:  0.898\n",
            "Epoch:  3600 | Epoch Time: 0m 0s\n",
            "\tAccuracy Score:  0.898\n",
            "Epoch:  3700 | Epoch Time: 0m 0s\n",
            "\tAccuracy Score:  0.907\n",
            "Epoch:  3800 | Epoch Time: 0m 0s\n",
            "\tAccuracy Score:  0.915\n",
            "Epoch:  3900 | Epoch Time: 0m 0s\n",
            "\tAccuracy Score:  0.915\n",
            "Epoch:  4000 | Epoch Time: 0m 0s\n",
            "\tAccuracy Score:  0.915\n",
            "Epoch:  4100 | Epoch Time: 0m 0s\n",
            "\tAccuracy Score:  0.915\n",
            "Epoch:  4200 | Epoch Time: 0m 0s\n",
            "\tAccuracy Score:  0.915\n",
            "Epoch:  4300 | Epoch Time: 0m 0s\n",
            "\tAccuracy Score:  0.915\n",
            "Epoch:  4400 | Epoch Time: 0m 0s\n",
            "\tAccuracy Score:  0.915\n",
            "Epoch:  4500 | Epoch Time: 0m 0s\n",
            "\tAccuracy Score:  0.915\n",
            "Epoch:  4600 | Epoch Time: 0m 0s\n",
            "\tAccuracy Score:  0.915\n",
            "Epoch:  4700 | Epoch Time: 0m 0s\n",
            "\tAccuracy Score:  0.915\n",
            "Epoch:  4800 | Epoch Time: 0m 0s\n",
            "\tAccuracy Score:  0.915\n",
            "Epoch:  4900 | Epoch Time: 0m 0s\n",
            "\tAccuracy Score:  0.915\n",
            "Epoch:  5000 | Epoch Time: 0m 0s\n",
            "\tAccuracy Score:  0.915\n",
            "Epoch:  5100 | Epoch Time: 0m 0s\n",
            "\tAccuracy Score:  0.915\n",
            "Epoch:  5200 | Epoch Time: 0m 0s\n",
            "\tAccuracy Score:  0.915\n",
            "Epoch:  5300 | Epoch Time: 0m 0s\n",
            "\tAccuracy Score:  0.915\n",
            "Epoch:  5400 | Epoch Time: 0m 0s\n",
            "\tAccuracy Score:  0.915\n",
            "Epoch:  5500 | Epoch Time: 0m 0s\n",
            "\tAccuracy Score:  0.915\n",
            "Epoch:  5600 | Epoch Time: 0m 0s\n",
            "\tAccuracy Score:  0.915\n",
            "Epoch:  5700 | Epoch Time: 0m 0s\n",
            "\tAccuracy Score:  0.915\n",
            "Epoch:  5800 | Epoch Time: 0m 0s\n",
            "\tAccuracy Score:  0.915\n",
            "Epoch:  5900 | Epoch Time: 0m 0s\n",
            "\tAccuracy Score:  0.915\n",
            "Epoch:  6000 | Epoch Time: 0m 0s\n",
            "\tAccuracy Score:  0.915\n",
            "Epoch:  6100 | Epoch Time: 0m 0s\n",
            "\tAccuracy Score:  0.915\n",
            "Epoch:  6200 | Epoch Time: 0m 0s\n",
            "\tAccuracy Score:  0.915\n",
            "Epoch:  6300 | Epoch Time: 0m 0s\n",
            "\tAccuracy Score:  0.915\n",
            "Epoch:  6400 | Epoch Time: 0m 0s\n",
            "\tAccuracy Score:  0.915\n",
            "Epoch:  6500 | Epoch Time: 0m 0s\n",
            "\tAccuracy Score:  0.915\n",
            "Epoch:  6600 | Epoch Time: 0m 0s\n",
            "\tAccuracy Score:  0.915\n",
            "Epoch:  6700 | Epoch Time: 0m 0s\n",
            "\tAccuracy Score:  0.915\n",
            "Epoch:  6800 | Epoch Time: 0m 0s\n",
            "\tAccuracy Score:  0.915\n",
            "Epoch:  6900 | Epoch Time: 0m 0s\n",
            "\tAccuracy Score:  0.915\n",
            "Epoch:  7000 | Epoch Time: 0m 0s\n",
            "\tAccuracy Score:  0.915\n",
            "Epoch:  7100 | Epoch Time: 0m 0s\n",
            "\tAccuracy Score:  0.915\n",
            "Epoch:  7200 | Epoch Time: 0m 0s\n",
            "\tAccuracy Score:  0.915\n",
            "Epoch:  7300 | Epoch Time: 0m 0s\n",
            "\tAccuracy Score:  0.915\n",
            "Epoch:  7400 | Epoch Time: 0m 0s\n",
            "\tAccuracy Score:  0.915\n",
            "Epoch:  7500 | Epoch Time: 0m 0s\n",
            "\tAccuracy Score:  0.915\n",
            "Epoch:  7600 | Epoch Time: 0m 0s\n",
            "\tAccuracy Score:  0.915\n",
            "Epoch:  7700 | Epoch Time: 0m 0s\n",
            "\tAccuracy Score:  0.915\n",
            "Epoch:  7800 | Epoch Time: 0m 0s\n",
            "\tAccuracy Score:  0.915\n",
            "Epoch:  7900 | Epoch Time: 0m 0s\n",
            "\tAccuracy Score:  0.915\n",
            "Epoch:  8000 | Epoch Time: 0m 0s\n",
            "\tAccuracy Score:  0.915\n",
            "Epoch:  8100 | Epoch Time: 0m 0s\n",
            "\tAccuracy Score:  0.915\n",
            "Epoch:  8200 | Epoch Time: 0m 0s\n",
            "\tAccuracy Score:  0.915\n",
            "Epoch:  8300 | Epoch Time: 0m 0s\n",
            "\tAccuracy Score:  0.915\n",
            "Epoch:  8400 | Epoch Time: 0m 0s\n",
            "\tAccuracy Score:  0.915\n",
            "Epoch:  8500 | Epoch Time: 0m 0s\n",
            "\tAccuracy Score:  0.915\n",
            "Epoch:  8600 | Epoch Time: 0m 0s\n",
            "\tAccuracy Score:  0.915\n",
            "Epoch:  8700 | Epoch Time: 0m 0s\n",
            "\tAccuracy Score:  0.915\n",
            "Epoch:  8800 | Epoch Time: 0m 0s\n",
            "\tAccuracy Score:  0.915\n",
            "Epoch:  8900 | Epoch Time: 0m 0s\n",
            "\tAccuracy Score:  0.915\n",
            "Epoch:  9000 | Epoch Time: 0m 0s\n",
            "\tAccuracy Score:  0.915\n",
            "Epoch:  9100 | Epoch Time: 0m 0s\n",
            "\tAccuracy Score:  0.915\n",
            "Epoch:  9200 | Epoch Time: 0m 0s\n",
            "\tAccuracy Score:  0.915\n",
            "Epoch:  9300 | Epoch Time: 0m 0s\n",
            "\tAccuracy Score:  0.915\n",
            "Epoch:  9400 | Epoch Time: 0m 0s\n",
            "\tAccuracy Score:  0.915\n",
            "Epoch:  9500 | Epoch Time: 0m 0s\n",
            "\tAccuracy Score:  0.915\n",
            "Epoch:  9600 | Epoch Time: 0m 0s\n",
            "\tAccuracy Score:  0.915\n",
            "Epoch:  9700 | Epoch Time: 0m 0s\n",
            "\tAccuracy Score:  0.911\n",
            "Epoch:  9800 | Epoch Time: 0m 0s\n",
            "\tAccuracy Score:  0.911\n",
            "Epoch:  9900 | Epoch Time: 0m 0s\n",
            "\tAccuracy Score:  0.911\n"
          ]
        }
      ]
    },
    {
      "cell_type": "markdown",
      "source": [
        "### Analyzing accuracy scores"
      ],
      "metadata": {
        "id": "qh60G7jCDE5F"
      }
    },
    {
      "cell_type": "code",
      "source": [
        "plt.plot(train_acc, label = \"Model accuracy\")\n",
        "plt.legend()\n",
        "plt.show()\n",
        "\n",
        "plt.savefig(\n",
        "    output_path.joinpath('model_accuracy.jpg'),\n",
        "    pil_kwargs={'quality': 100},\n",
        "    transparent=True,\n",
        "    bbox_inches='tight',\n",
        "    pad_inches=0.1\n",
        ")"
      ],
      "metadata": {
        "colab": {
          "base_uri": "https://localhost:8080/",
          "height": 286
        },
        "id": "cA3h4nfGDD5d",
        "outputId": "d1a2db3f-dee9-4333-8f79-d7a9d3f32e1a"
      },
      "execution_count": null,
      "outputs": [
        {
          "output_type": "display_data",
          "data": {
            "image/png": "[encoded data removed]",
            "text/plain": [
              "<Figure size 432x288 with 1 Axes>"
            ]
          },
          "metadata": {
            "needs_background": "light"
          }
        },
        {
          "output_type": "display_data",
          "data": {
            "text/plain": [
              "<Figure size 432x288 with 0 Axes>"
            ]
          },
          "metadata": {}
        }
      ]
    },
    {
      "cell_type": "markdown",
      "source": [
        "### Implementing random sampler"
      ],
      "metadata": {
        "id": "hVwPvgsMc4qw"
      }
    },
    {
      "cell_type": "code",
      "source": [
        "def random_acceptor():\n",
        "  if(np.random.uniform(0,1)>=0.5):\n",
        "    return True\n",
        "  else:\n",
        "    return False\n",
        "\n",
        "def generate_random_weights(weights, biases):\n",
        "  prop_layer_weights = np.asarray([\n",
        "      np.random.randn(2, 3) * abs(np.random.randn() * 0.1) + weights[0],\n",
        "      np.random.randn(1, 3) * abs(np.random.randn() * 0.1) + weights[1]\n",
        "  ], dtype=object)\n",
        "\n",
        "  prop_layer_biases = np.asarray([\n",
        "      np.random.randn(3, 1) * abs(np.random.randn() * 0.1) + biases[0],\n",
        "      np.random.randn(1, 1) * abs(np.random.randn() * 0.1) + biases[1]\n",
        "  ], dtype=object)\n",
        "\n",
        "\n",
        "  return prop_layer_weights, prop_layer_biases\n",
        "\n",
        "best_random_model_pos = -1\n",
        "best_random_likelihood = float(\"-inf\")\n",
        "\n",
        "def random_sampler(data, labels, epochs, model):\n",
        "  global best_random_likelihood\n",
        "  global best_random_model_pos\n",
        "  accepted_proposals = []\n",
        "  rejected_proposals = []\n",
        "\n",
        "  accuracy = []\n",
        "\n",
        "  for epoch in range(epochs):\n",
        "    start_time = time.time()\n",
        "\n",
        "    weights = model.weights\n",
        "    biases = model.bias\n",
        "    new_weights, new_biases = generate_random_weights(weights, biases)\n",
        "\n",
        "    current_prediction = model.forward(data, weights, biases)\n",
        "    new_prediction = model.forward(data, new_weights, new_biases)\n",
        "\n",
        "    current_prediction = current_prediction.squeeze()\n",
        "    new_prediction = new_prediction.squeeze()\n",
        "\n",
        "    new_likelihood = nll_likelihood(labels, new_prediction) + prior(new_weights, new_biases)\n",
        "    current_likelihood = nll_likelihood(labels, current_prediction) + prior(weights, biases)\n",
        "\n",
        "    if random_acceptor:\n",
        "      final_weight = new_weights\n",
        "      final_bias = new_biases\n",
        "      accepted_proposals.append([final_weight, final_bias])\n",
        "    else:\n",
        "      final_weight = weights\n",
        "      final_bias = biases\n",
        "      rejected_proposals.append([final_weight, final_bias])\n",
        "\n",
        "\n",
        "    if new_likelihood > best_random_likelihood:\n",
        "      best_random_likelihood = new_likelihood\n",
        "      best_random_model_pos = len(accepted_proposals) - 1\n",
        "    \n",
        "    model.weights = final_weight\n",
        "    model.bias = final_bias\n",
        "\n",
        "    end_time = time.time()\n",
        "\n",
        "    epoch_mins, epoch_secs = epoch_time(start_time, end_time)\n",
        "\n",
        "    if epoch % 100 == 0:\n",
        "      current_accuracy = accuracy_score(labels, model.forward(data) > 0.5)\n",
        "      accuracy.append(current_accuracy)\n",
        "      print(f\"Epoch: {epoch: 02} | Epoch Time: {epoch_mins}m {epoch_secs}s\")\n",
        "      print(f\"\\tAccuracy Score: {current_accuracy: .3f}\")\n",
        "\n",
        "      \n",
        "  return accepted_proposals, rejected_proposals, accuracy"
      ],
      "metadata": {
        "id": "uzFWLoLGccHf"
      },
      "execution_count": null,
      "outputs": []
    },
    {
      "cell_type": "code",
      "source": [
        "# Initialize model\n",
        "xor_model = MLP()\n",
        "\n",
        "# Train model using Random Sampler\n",
        "accept_random, reject_random, train_acc_random = random_sampler(x_train, y_train, 1000, xor_model)"
      ],
      "metadata": {
        "colab": {
          "base_uri": "https://localhost:8080/"
        },
        "id": "0FgeZJGggWbl",
        "outputId": "23c7bbd6-5922-4981-b12b-47a81d3f8381"
      },
      "execution_count": null,
      "outputs": [
        {
          "output_type": "stream",
          "name": "stdout",
          "text": [
            "Epoch:  0 | Epoch Time: 0m 0s\n",
            "\tAccuracy Score:  0.499\n",
            "Epoch:  100 | Epoch Time: 0m 0s\n",
            "\tAccuracy Score:  0.499\n",
            "Epoch:  200 | Epoch Time: 0m 0s\n",
            "\tAccuracy Score:  0.499\n",
            "Epoch:  300 | Epoch Time: 0m 0s\n",
            "\tAccuracy Score:  0.499\n",
            "Epoch:  400 | Epoch Time: 0m 0s\n",
            "\tAccuracy Score:  0.499\n",
            "Epoch:  500 | Epoch Time: 0m 0s\n",
            "\tAccuracy Score:  0.499\n",
            "Epoch:  600 | Epoch Time: 0m 0s\n",
            "\tAccuracy Score:  0.499\n",
            "Epoch:  700 | Epoch Time: 0m 0s\n",
            "\tAccuracy Score:  0.499\n",
            "Epoch:  800 | Epoch Time: 0m 0s\n",
            "\tAccuracy Score:  0.499\n",
            "Epoch:  900 | Epoch Time: 0m 0s\n",
            "\tAccuracy Score:  0.499\n"
          ]
        }
      ]
    },
    {
      "cell_type": "code",
      "source": [
        "plt.plot(train_acc_random, label = \"Random Sampler accuracy\")\n",
        "plt.legend()\n",
        "plt.show()\n",
        "\n",
        "plt.savefig(\n",
        "    output_path.joinpath('random_sampler_accuracy.jpg'),\n",
        "    pil_kwargs={'quality': 100},\n",
        "    transparent=True,\n",
        "    bbox_inches='tight',\n",
        "    pad_inches=0.1\n",
        ")"
      ],
      "metadata": {
        "colab": {
          "base_uri": "https://localhost:8080/",
          "height": 286
        },
        "id": "0qi0f58YgmdH",
        "outputId": "b21cd45c-25ff-4730-d8f6-afb684ca84c9"
      },
      "execution_count": null,
      "outputs": [
        {
          "output_type": "display_data",
          "data": {
            "image/png": "[encoded data removed]",
            "text/plain": [
              "<Figure size 432x288 with 1 Axes>"
            ]
          },
          "metadata": {
            "needs_background": "light"
          }
        },
        {
          "output_type": "display_data",
          "data": {
            "text/plain": [
              "<Figure size 432x288 with 0 Axes>"
            ]
          },
          "metadata": {}
        }
      ]
    },
    {
      "cell_type": "markdown",
      "source": [
        "## Testing both the approaches"
      ],
      "metadata": {
        "id": "-Tv8VHE6iybn"
      }
    },
    {
      "cell_type": "code",
      "source": [
        "# Select the best model from both approaches\n",
        "\n",
        "best_mh_model_weights, best_mh_model_bias = accept[best_mh_model_pos]\n",
        "best_random_model_weights, best_random_model_bias = accept_random[best_random_model_pos]\n",
        "\n",
        "best_mh_model = MLP()\n",
        "best_mh_model.weights = best_mh_model_weights\n",
        "best_mh_model.bias = best_mh_model_bias\n",
        "\n",
        "best_random_model = MLP()\n",
        "best_random_model.weights = best_random_model_weights\n",
        "best_random_model.bias = best_random_model_bias"
      ],
      "metadata": {
        "id": "y9V8XgXei0ym"
      },
      "execution_count": null,
      "outputs": []
    },
    {
      "cell_type": "code",
      "source": [
        "# Best predictions of Metropolis Hastings sampler model\n",
        "\n",
        "predictions = []\n",
        "\n",
        "for i in x_test:\n",
        "  z = best_mh_model.forward(i)\n",
        "  \n",
        "  if z >= 0.5:\n",
        "    predictions.append(1)\n",
        "  else:\n",
        "    predictions.append(0)\n",
        "\n",
        "predictions = np.array(predictions) - y_test\n",
        "acc = np.count_nonzero(predictions == 0) / len(predictions)\n",
        "\n",
        "print(f\"Best Accuracy with Metropolis Hastings: {acc: .3f}\")"
      ],
      "metadata": {
        "colab": {
          "base_uri": "https://localhost:8080/"
        },
        "id": "7qFsAZhal-V-",
        "outputId": "bf695f1b-4478-4f75-b7a4-ce1ff33c1561"
      },
      "execution_count": null,
      "outputs": [
        {
          "output_type": "stream",
          "name": "stdout",
          "text": [
            "Best Accuracy with Metropolis Hastings:  0.911\n"
          ]
        }
      ]
    },
    {
      "cell_type": "code",
      "source": [
        "# Best predictions of Random sampler model\n",
        "\n",
        "predictions = []\n",
        "\n",
        "for i in x_test:\n",
        "  z = best_random_model.forward(i)\n",
        "  \n",
        "  if z >= 0.5:\n",
        "    predictions.append(1)\n",
        "  else:\n",
        "    predictions.append(0)\n",
        "\n",
        "predictions = np.array(predictions) - y_test\n",
        "acc = np.count_nonzero(predictions == 0) / len(predictions)\n",
        "\n",
        "print(f\"Best Accuracy with Random Sampler: {acc: .3f}\")"
      ],
      "metadata": {
        "colab": {
          "base_uri": "https://localhost:8080/"
        },
        "id": "kNux0qP3nT4A",
        "outputId": "32ff728f-e21a-4e53-e82e-da2490705d37"
      },
      "execution_count": null,
      "outputs": [
        {
          "output_type": "stream",
          "name": "stdout",
          "text": [
            "Best Accuracy with Random Sampler:  0.692\n"
          ]
        }
      ]
    },
    {
      "cell_type": "code",
      "source": [
        "# Ensemble predictions of MH sampler model\n",
        "\n",
        "predictions = []\n",
        "\n",
        "for j in x_test:\n",
        "  temp_pred = []\n",
        "  for weights, bias in accept:\n",
        "    temp_model = MLP()\n",
        "    temp_model.weights = weights\n",
        "    temp_model.bias = bias\n",
        "    z = temp_model.forward(j)\n",
        "    if z > 0.5:\n",
        "      temp_pred.append(1)\n",
        "    else:\n",
        "      temp_pred.append(0)\n",
        "\n",
        "  z = np.mean(temp_pred)\n",
        "  if z >= 0.5:\n",
        "    predictions.append(1)\n",
        "  else:\n",
        "    predictions.append(0)\n",
        "\n",
        "predictions = np.array(predictions) - y_test\n",
        "acc = np.count_nonzero(predictions == 0) / len(predictions)\n",
        "\n",
        "print(f\"Random Ensemble Accuracy of Metropolis Hastings sampler: {acc: .3f}\")"
      ],
      "metadata": {
        "colab": {
          "base_uri": "https://localhost:8080/"
        },
        "id": "WTUitF5DnbeH",
        "outputId": "1fac177c-88c4-4b5c-e102-406a15820ff1"
      },
      "execution_count": null,
      "outputs": [
        {
          "output_type": "stream",
          "name": "stdout",
          "text": [
            "Random Ensemble Accuracy of Metropolis Hastings sampler:  0.880\n"
          ]
        }
      ]
    },
    {
      "cell_type": "code",
      "source": [
        "# Ensemble predictions of Random sampler model\n",
        "\n",
        "predictions = []\n",
        "\n",
        "for j in x_test:\n",
        "  temp_pred = []\n",
        "  for weights, bias in accept_random:\n",
        "    temp_model = MLP()\n",
        "    temp_model.weights = weights\n",
        "    temp_model.bias = bias\n",
        "    z = temp_model.forward(j)\n",
        "    if z > 0.5:\n",
        "      temp_pred.append(1)\n",
        "    else:\n",
        "      temp_pred.append(0)\n",
        "\n",
        "  z = np.mean(temp_pred)\n",
        "  if z >= 0.5:\n",
        "    predictions.append(1)\n",
        "  else:\n",
        "    predictions.append(0)\n",
        "\n",
        "predictions = np.array(predictions) - y_test\n",
        "acc = np.count_nonzero(predictions == 0) / len(predictions)\n",
        "\n",
        "print(f\"Random Ensemble Accuracy of Random sampler: {acc: .3f}\")"
      ],
      "metadata": {
        "colab": {
          "base_uri": "https://localhost:8080/"
        },
        "id": "IQ4tkNWCpGXy",
        "outputId": "18685172-df04-4ab4-8726-3f8a696cbe17"
      },
      "execution_count": null,
      "outputs": [
        {
          "output_type": "stream",
          "name": "stdout",
          "text": [
            "Random Ensemble Accuracy of Random sampler:  0.485\n"
          ]
        }
      ]
    }
  ],
  "metadata": {
    "interpreter": {
      "hash": "1445e37174c9240adfbe594e07781a3eaf6ebe22b7ce7b11981fc9a03b696e80"
    },
    "kernelspec": {
      "display_name": "Python 3.9.5 ('ml')",
      "language": "python",
      "name": "python3"
    },
    "language_info": {
      "codemirror_mode": {
        "name": "ipython",
        "version": 3
      },
      "file_extension": ".py",
      "mimetype": "text/x-python",
      "name": "python",
      "nbconvert_exporter": "python",
      "pygments_lexer": "ipython3",
      "version": "3.9.7"
    },
    "orig_nbformat": 4,
    "colab": {
      "name": "bayesian_neural_network_mcmc.ipynb",
      "provenance": [],
      "collapsed_sections": []
    }
  },
  "nbformat": 4,
  "nbformat_minor": 0
}