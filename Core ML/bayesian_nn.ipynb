{
 "cells": [
  {
   "cell_type": "markdown",
   "metadata": {},
   "source": [
    "# Core ML: Bayesian NNs via MCMC\n"
   ]
  },
  {
   "cell_type": "markdown",
   "metadata": {},
   "source": [
    "## Import libraries"
   ]
  },
  {
   "cell_type": "code",
   "execution_count": 1,
   "metadata": {},
   "outputs": [],
   "source": [
    "import numpy as np\n",
    "from pathlib import Path\n"
   ]
  },
  {
   "cell_type": "markdown",
   "metadata": {},
   "source": [
    "## Prepare noisy XOR dataset"
   ]
  },
  {
   "cell_type": "code",
   "execution_count": 2,
   "metadata": {},
   "outputs": [],
   "source": [
    "# Define function for simulating noisy XOR points\n",
    "\n",
    "def simulate_xor(n=np.repeat(100, 4), s=0.55):\n",
    "\tx = np.vstack([\n",
    "            # points corresponding to (0, 0)\n",
    "            np.column_stack(\n",
    "            \t[np.random.rand(n[0]) - s, np.random.rand(n[0]) - s]),\n",
    "            # points corresponding to (0, 1)\n",
    "            np.column_stack(\n",
    "            \t[np.random.rand(n[1]) - s, np.random.rand(n[1]) + s]),\n",
    "            # points corresponding to (1, 0)\n",
    "            np.column_stack(\n",
    "            \t[np.random.rand(n[2]) + s, np.random.rand(n[2]) - s]),\n",
    "            # points corresponding to (1, 1)\n",
    "            np.column_stack(\n",
    "            \t[np.random.rand(n[3]) + s, np.random.rand(n[3]) + s])\n",
    "\t])\n",
    "\n",
    "\ty = np.repeat([0, 1, 1, 0], n)\n",
    "\n",
    "\treturn x, y\n"
   ]
  },
  {
   "cell_type": "code",
   "execution_count": 7,
   "metadata": {},
   "outputs": [],
   "source": [
    "# Initialize constants for dataset\n",
    "\n",
    "num_classes = 4\n",
    "num_training_samples = np.repeat(1200, num_classes)\n",
    "num_test_samples = np.repeat(300, num_classes)"
   ]
  },
  {
   "cell_type": "code",
   "execution_count": 8,
   "metadata": {},
   "outputs": [],
   "source": [
    "# Create train and test dataset\n",
    "\n",
    "x_train, y_train = simulate_xor(n=num_training_samples)\n",
    "x_test, y_test = simulate_xor(n=num_test_samples)"
   ]
  },
  {
   "cell_type": "code",
   "execution_count": 9,
   "metadata": {},
   "outputs": [],
   "source": [
    "# Save train dataset to file\n",
    "\n",
    "train_data_path = Path(\"data/train\")\n",
    "\n",
    "train_data_path.mkdir(parents=True, exist_ok=True)\n",
    "\n",
    "np.savetxt(train_data_path.joinpath(\"x_train.csv\"), x_train, delimiter=\",\", header=\"x1,x2\", comments=\"\")\n",
    "np.savetxt(train_data_path.joinpath(\"y_train.csv\"), y_train,\n",
    "           delimiter=\",\", header=\"y\", comments=\"\")\n"
   ]
  },
  {
   "cell_type": "code",
   "execution_count": 10,
   "metadata": {},
   "outputs": [],
   "source": [
    "# Save test dataset to file\n",
    "\n",
    "test_data_path = Path(\"data/test\")\n",
    "\n",
    "test_data_path.mkdir(parents=True, exist_ok=True)\n",
    "\n",
    "np.savetxt(test_data_path.joinpath(\"x_test.csv\"), x_test,\n",
    "           delimiter=\",\", header=\"x1,x2\", comments=\"\")\n",
    "np.savetxt(test_data_path.joinpath(\"y_test.csv\"), y_test,\n",
    "           delimiter=\",\", header=\"y\", comments=\"\")\n"
   ]
  }
 ],
 "metadata": {
  "interpreter": {
   "hash": "1445e37174c9240adfbe594e07781a3eaf6ebe22b7ce7b11981fc9a03b696e80"
  },
  "kernelspec": {
   "display_name": "Python 3.9.5 ('ml')",
   "language": "python",
   "name": "python3"
  },
  "language_info": {
   "codemirror_mode": {
    "name": "ipython",
    "version": 3
   },
   "file_extension": ".py",
   "mimetype": "text/x-python",
   "name": "python",
   "nbconvert_exporter": "python",
   "pygments_lexer": "ipython3",
   "version": "3.9.7"
  },
  "orig_nbformat": 4
 },
 "nbformat": 4,
 "nbformat_minor": 2
}
